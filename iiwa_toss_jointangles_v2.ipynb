{
 "cells": [
  {
   "cell_type": "code",
   "execution_count": 1,
   "metadata": {},
   "outputs": [],
   "source": [
    "%load_ext autoreload\n",
    "%autoreload 2\n",
    "\n",
    "import matplotlib.pyplot as plt\n",
    "import numpy as np\n",
    "\n",
    "import pydrake\n",
    "from pydrake.all import (\n",
    "    PiecewisePolynomial, RigidTransform, RotationMatrix, JacobianWrtVariable\n",
    ")\n",
    "\n",
    "from src.drake_helpers import (\n",
    "    BuildAndSimulateTrajectory, \n",
    "    setup_manipulation_station,\n",
    "    visualize_transform,\n",
    "    GripperControllerUsingIiwaState,\n",
    "    GripperControllerUsingIiwaStateV2,\n",
    ")\n",
    "from src.ik import (\n",
    "    create_q_knots, \n",
    "    pose_to_jointangles, \n",
    "    jointangles_to_pose, \n",
    "    spatial_velocity_jacobian_at_jointangles,\n",
    ")\n",
    "from src.throw import (\n",
    "    plan_pickup,\n",
    "    plan_prethrow_pose,\n",
    "    add_go_to_ja_via_jointinterpolation,\n",
    "    add_go_to_pose_via_jointinterpolation,\n",
    "    plan_throw,\n",
    ")\n",
    "from src.trajectory import get_launch_speed_required\n",
    "\n",
    "# cleaner debugging\n",
    "np.set_printoptions(precision=3, suppress=True)"
   ]
  },
  {
   "cell_type": "code",
   "execution_count": 2,
   "metadata": {},
   "outputs": [
    {
     "name": "stdout",
     "output_type": "stream",
     "text": [
      "http://127.0.0.1:7000/static/\n"
     ]
    }
   ],
   "source": [
    "# start a single meshcat server instance to use for remainder of this notebook.\n",
    "from meshcat.servers.zmqserver import start_zmq_server_as_subprocess\n",
    "proc, zmq_url, web_url = start_zmq_server_as_subprocess(server_args=[])\n",
    "print(web_url)"
   ]
  },
  {
   "cell_type": "markdown",
   "metadata": {},
   "source": [
    "## The next cell determines everything relevant to the throw"
   ]
  },
  {
   "cell_type": "code",
   "execution_count": 3,
   "metadata": {},
   "outputs": [
    {
     "name": "stdout",
     "output_type": "stream",
     "text": [
      "Connecting to meshcat-server at zmq_url=tcp://127.0.0.1:6000...\n",
      "You can open the visualizer by visiting the following URL:\n",
      "http://127.0.0.1:7000/static/\n",
      "Connected to meshcat-server.\n",
      "-------Planning throw-------\n",
      "Release joint angles: [-0.785  0.     0.     1.55   0.    -1.5    0.     0.     0.   ]\n",
      "[[ 0.223 -0.228]\n",
      " [-0.223  0.228]\n",
      " [-0.429  0.03 ]]\n",
      "Release spatial direction: [-0.429  0.429  0.416]\n",
      "Throw angle (above xy plane) degs: 34.43813560311899\n",
      "Initial velocity magnitude: 5.0949222847236735\n",
      "time required: 0.14433432528205542\n"
     ]
    }
   ],
   "source": [
    "'''\n",
    "setup\n",
    "'''\n",
    "# Get initial pose of the gripper by using default context of manip station.\n",
    "P_WORLD_TARGET = np.array([-3, 3, -1])\n",
    "GRIPPER_TO_OBJECT_DIST = 0.13 # meters\n",
    "\n",
    "T_world_target = RigidTransform(RotationMatrix(), P_WORLD_TARGET)\n",
    "T_world_objectInitial = RigidTransform(\n",
    "    p=[-.1, -.69, 1.04998503e-01],\n",
    "    R=RotationMatrix.MakeZRotation(np.pi/2.0)\n",
    ")\n",
    "T_world_gripperObject = RigidTransform(\n",
    "    p=T_world_objectInitial.translation() + np.array([0, 0, GRIPPER_TO_OBJECT_DIST]),\n",
    "    R=RotationMatrix.MakeXRotation(-np.pi/2.0)\n",
    ")\n",
    "T_world_robotInitial, meshcat = setup_manipulation_station(T_world_objectInitial, zmq_url, T_world_target)\n",
    "\n",
    "#object frame viz\n",
    "visualize_transform(meshcat, \"T_world_obj0\", T_world_objectInitial)\n",
    "T_world_target = RigidTransform(\n",
    "    p=P_WORLD_TARGET,\n",
    "    R=RotationMatrix()\n",
    ")\n",
    "visualize_transform(meshcat, \"T_world_obj0\", T_world_objectInitial)\n",
    "visualize_transform(meshcat, \"target\", T_world_target)\n",
    "\n",
    "'''\n",
    "throw\n",
    "* heading (top down view of the xy plane, relative to the positive x axis)\n",
    "* release angle (relative to azimuth)\n",
    "* release velocity\n",
    "'''\n",
    "print(f\"-------Planning throw-------\")\n",
    "throw_heading = np.arctan2(P_WORLD_TARGET[1], P_WORLD_TARGET[0])\n",
    "\n",
    "# we need these states to calculate the jacobian\n",
    "ja1 = throw_heading - np.pi\n",
    "# you can play around with these to achieve different \"release\" poses\n",
    "prethrow_ja = np.array([ja1, 0, 0, 2.00, 0, -2.0, 0, 0, 0])\n",
    "throwend_ja = np.array([ja1, 0, 0, 1.1, 0, -1.0, 0, 0, 0])\n",
    "release_ja = prethrow_ja + 0.5 * (throwend_ja - prethrow_ja)\n",
    "T_world_releasePose = jointangles_to_pose(release_ja[:7])\n",
    "T_world_prethrowPose = jointangles_to_pose(prethrow_ja[:7])\n",
    "print(f\"Release joint angles: {release_ja}\")\n",
    "\n",
    "# calculate jacobian at release\n",
    "J_G = spatial_velocity_jacobian_at_jointangles(\n",
    "    jointangles=release_ja[:7],\n",
    "    gripper_to_object_dist=GRIPPER_TO_OBJECT_DIST\n",
    ")\n",
    "J_G_joint4 = J_G[3:, 3] # spatial velocity only\n",
    "J_G_joint6 = J_G[3:, 5] # spatial velocity only\n",
    "J_G_joints46 = np.zeros((3, 2))\n",
    "J_G_joints46[:, 0] = J_G_joint4\n",
    "J_G_joints46[:, 1] = J_G_joint6\n",
    "print(J_G_joints46)\n",
    "\n",
    "# calculate angle at release\n",
    "release_spatial_dir = J_G_joints46 @ (throwend_ja - prethrow_ja)[[3, 5]]\n",
    "print(f\"Release spatial direction: {release_spatial_dir}\")\n",
    "angle_above_plane_rads = np.arctan2(\n",
    "    release_spatial_dir[2],\n",
    "    np.linalg.norm(release_spatial_dir[:2])\n",
    ")\n",
    "print(f\"Throw angle (above xy plane) degs: {angle_above_plane_rads * 180.0 / np.pi}\")\n",
    "\n",
    "# calculate required release velocity magnitude\n",
    "p_release = (\n",
    "    T_world_releasePose.translation()\n",
    "  + T_world_releasePose.rotation().multiply([0, GRIPPER_TO_OBJECT_DIST, 0])\n",
    ")\n",
    "delta_x = np.linalg.norm(P_WORLD_TARGET[:2]) - np.linalg.norm(p_release[:2]) # dist on xy plane\n",
    "delta_y = P_WORLD_TARGET[2] - p_release[2] # height difference\n",
    "mag_v0_reqd = get_launch_speed_required(theta=angle_above_plane_rads, x=delta_x, y=delta_y)\n",
    "print(f\"Initial velocity magnitude: {mag_v0_reqd}\")\n",
    "\n",
    "# calculate required time for throw motion\n",
    "time_reqd = np.linalg.norm(release_spatial_dir) / mag_v0_reqd\n",
    "print(f\"time required: {time_reqd}\")\n",
    "\n",
    "'''\n",
    "timings\n",
    "'''\n",
    "t_goToObj = 1.0\n",
    "t_holdObj = 0.5\n",
    "t_goToPreobj = 1.0\n",
    "t_goToWaypoint = 2.0\n",
    "t_goToPrethrow = 2.0 # must be greater than 1.0 for a 1 second hold to stabilize\n",
    "t_goToThrowEnd = time_reqd "
   ]
  },
  {
   "cell_type": "markdown",
   "metadata": {},
   "source": [
    "# Generate trajectories in joint angle space with timings from above"
   ]
  },
  {
   "cell_type": "markdown",
   "metadata": {},
   "source": [
    "### End-effector trajectory"
   ]
  },
  {
   "cell_type": "code",
   "execution_count": 4,
   "metadata": {},
   "outputs": [],
   "source": [
    "# plan pickup\n",
    "t_lst, q_knots, total_time = plan_pickup(T_world_robotInitial, T_world_gripperObject,\n",
    "    t_goToObj=t_goToObj,\n",
    "    t_holdObj=t_holdObj,\n",
    "    t_goToPreobj=t_goToPreobj\n",
    ")\n",
    "\n",
    "# clear the bins via a waypoint\n",
    "T_world_hackyWayPoint = RigidTransform(\n",
    "    p=[-.6, -0.0, 0.6],\n",
    "    R=RotationMatrix.MakeXRotation(-np.pi/2.0), #R_WORLD_PRETHROW, #RotationMatrix.MakeXRotation(-np.pi/2.0),\n",
    ")\n",
    "t_lst, q_knots = add_go_to_pose_via_jointinterpolation(\n",
    "    T_world_robotInitial, \n",
    "    T_world_hackyWayPoint, \n",
    "    t_start=total_time,\n",
    "    t_lst=t_lst,\n",
    "    q_knots=q_knots,\n",
    "    time_interval_s=t_goToWaypoint\n",
    ")\n",
    "\n",
    "# go to prethrow\n",
    "t_lst, q_knots = add_go_to_ja_via_jointinterpolation(\n",
    "    pose_to_jointangles(T_world_hackyWayPoint), \n",
    "    prethrow_ja, \n",
    "    t_start=total_time + t_goToWaypoint,\n",
    "    t_lst=t_lst,\n",
    "    q_knots=q_knots,\n",
    "    time_interval_s=t_goToPrethrow,\n",
    "    hold_time_s=1.0,\n",
    ")\n",
    "\n",
    "# go to throw\n",
    "t_lst, q_knots = add_go_to_ja_via_jointinterpolation(\n",
    "    prethrow_ja,\n",
    "    throwend_ja,\n",
    "    t_start=total_time + t_goToWaypoint + t_goToPrethrow,\n",
    "    t_lst=t_lst,\n",
    "    q_knots=q_knots,\n",
    "    time_interval_s=t_goToThrowEnd,\n",
    "    num_samples=5,\n",
    "    include_end=True\n",
    ")\n",
    "\n",
    "# turn trajectory into joint space\n",
    "q_knots = np.array(q_knots)\n",
    "q_traj = PiecewisePolynomial.CubicShapePreserving(t_lst, q_knots[:, 0:7].T)"
   ]
  },
  {
   "cell_type": "markdown",
   "metadata": {},
   "source": [
    "### Gripper trajectory"
   ]
  },
  {
   "cell_type": "code",
   "execution_count": 5,
   "metadata": {},
   "outputs": [],
   "source": [
    "# make gripper trajectory\n",
    "delay_hack = 0.00\n",
    "gripper_times_lst = np.array([\n",
    "    0.,\n",
    "    t_goToObj,\n",
    "    t_holdObj,\n",
    "    t_goToPreobj,\n",
    "    t_goToWaypoint,\n",
    "    t_goToPrethrow,\n",
    "    t_goToThrowEnd / 2.0 + delay_hack, # should be some portion of t_goToThrowEnd\n",
    "    1e-9,\n",
    "    t_goToThrowEnd / 2.0 - delay_hack, # should be some portion of t_goToThrowEnd\n",
    "])\n",
    "gripper_cumulative_times_lst = np.cumsum(gripper_times_lst)\n",
    "GRIPPER_OPEN = 0.5\n",
    "GRIPPER_CLOSED = 0.0\n",
    "gripper_knots = np.array([\n",
    "    GRIPPER_OPEN,\n",
    "    GRIPPER_OPEN,\n",
    "    GRIPPER_CLOSED,\n",
    "    GRIPPER_CLOSED,\n",
    "    GRIPPER_CLOSED,\n",
    "    GRIPPER_CLOSED,\n",
    "    GRIPPER_CLOSED,\n",
    "    GRIPPER_OPEN,\n",
    "    GRIPPER_OPEN,\n",
    "]).reshape(1, gripper_times_lst.shape[0])\n",
    "g_traj = PiecewisePolynomial.FirstOrderHold(gripper_cumulative_times_lst, gripper_knots)"
   ]
  },
  {
   "cell_type": "markdown",
   "metadata": {},
   "source": [
    "### Visualizing trajectories"
   ]
  },
  {
   "cell_type": "code",
   "execution_count": 6,
   "metadata": {},
   "outputs": [
    {
     "data": {
      "image/png": "[encoded data removed]",
      "text/plain": [
       "<Figure size 720x288 with 1 Axes>"
      ]
     },
     "metadata": {
      "needs_background": "light"
     },
     "output_type": "display_data"
    }
   ],
   "source": [
    "plt.figure(figsize=(10, 4))\n",
    "\n",
    "viz_times = np.linspace(q_traj.end_time() - 1.6, q_traj.end_time(), 1000)\n",
    "q_plan = np.hstack([q_traj.value(t) for t in viz_times])\n",
    "g_plan = np.hstack([g_traj.value(t) for t in viz_times])\n",
    "\n",
    "for idx, r in enumerate(q_plan):\n",
    "    plt.plot(viz_times, r, label=f\"joint_{idx + 1}\")\n",
    "for idx, r in enumerate(g_plan):\n",
    "    plt.plot(viz_times, r, label=f\"gripper_{idx + 1}\")\n",
    "    \n",
    "plt.axvline(\n",
    "    x=gripper_cumulative_times_lst[-2],\n",
    "    color=\"black\", linestyle=(0, (1, 10)), label=\"t_release\"\n",
    ");\n",
    "plt.legend(bbox_to_anchor=(1, 1), loc='upper left', ncol=1);"
   ]
  },
  {
   "cell_type": "markdown",
   "metadata": {},
   "source": [
    "# Run simulation"
   ]
  },
  {
   "cell_type": "code",
   "execution_count": 7,
   "metadata": {},
   "outputs": [
    {
     "name": "stdout",
     "output_type": "stream",
     "text": [
      "Connecting to meshcat-server at zmq_url=tcp://127.0.0.1:6000...\n",
      "You can open the visualizer by visiting the following URL:\n",
      "http://127.0.0.1:7000/static/\n",
      "Connected to meshcat-server.\n",
      "Throw motion should happen from 6.5 seconds to 6.644334325282055 seconds\n",
      "Running for 8.644334325282056 seconds\n",
      "ROBOT BECAME STATIONARY\n",
      "ROBOT BECAME MOVING\n",
      "ROBOT BECAME STATIONARY\n",
      "ROBOT BECAME MOVING\n",
      "ROBOT BECAME STATIONARY\n",
      "ROBOT BECAME MOVING\n",
      "ROBOT BECAME STATIONARY\n",
      "ROBOT BECAME MOVING\n",
      "p=[-0.266  0.266  0.393] v=[-3.123  3.123  2.181] v2d=(4.42, 2.18) x=3.87 ys=(-1.46, -1.0)\n",
      "p=[-0.269  0.269  0.395] v=[-3.126  3.126  2.246] v2d=(4.42, 2.25) x=3.86 ys=(-1.39, -1.0)\n",
      "p=[-0.272  0.272  0.397] v=[-3.129  3.129  2.312] v2d=(4.42, 2.31) x=3.86 ys=(-1.32, -1.0)\n",
      "p=[-0.275  0.275  0.4  ] v=[-3.13   3.13   2.379] v2d=(4.43, 2.38) x=3.85 ys=(-1.25, -1.0)\n",
      "p=[-0.278  0.278  0.402] v=[-3.131  3.131  2.446] v2d=(4.43, 2.45) x=3.85 ys=(-1.18, -1.0)\n",
      "p=[-0.281  0.281  0.405] v=[-3.131  3.131  2.513] v2d=(4.43, 2.51) x=3.84 ys=(-1.11, -1.0)\n",
      "p=[-0.284  0.284  0.407] v=[-3.13   3.13   2.581] v2d=(4.43, 2.58) x=3.84 ys=(-1.05, -1.0)\n",
      "p=[-0.288  0.288  0.41 ] v=[-3.128  3.128  2.649] v2d=(4.42, 2.65) x=3.84 ys=(-0.98, -1.0)\n",
      "p=[-0.291  0.291  0.412] v=[-3.125  3.125  2.717] v2d=(4.42, 2.72) x=3.83 ys=(-0.92, -1.0)\n",
      "p=[-0.294  0.294  0.415] v=[-3.121  3.121  2.785] v2d=(4.41, 2.79) x=3.83 ys=(-0.86, -1.0)\n",
      "RELEASING!\n",
      "ROBOT BECAME STATIONARY\n",
      "ROBOT BECAME MOVING\n",
      "ROBOT BECAME STATIONARY\n"
     ]
    }
   ],
   "source": [
    "get_gripper_controller_1 = lambda station_plant: GripperControllerUsingIiwaState(\n",
    "    plant=station_plant,\n",
    "    T_world_objectPickup=T_world_gripperObject,\n",
    "    T_world_prethrow=T_world_prethrowPose,\n",
    "    T_world_targetRelease=T_world_releasePose,\n",
    "    dbg_state_prints=False,\n",
    ")\n",
    "\n",
    "# This one seems a little more accurate\n",
    "get_gripper_controller_2 = lambda station_plant: GripperControllerUsingIiwaStateV2(\n",
    "    plant=station_plant,\n",
    "    gipper_to_object_dist=GRIPPER_TO_OBJECT_DIST,\n",
    "    T_world_objectPickup=T_world_gripperObject,\n",
    "    T_world_prethrow=T_world_prethrowPose,\n",
    "    p_world_target=T_world_target.translation(),\n",
    "    height_thresh=0.1, # tunable parameter\n",
    "    dbg_state_prints=True\n",
    ")\n",
    "\n",
    "# do the thing\n",
    "simulator, station_plant, meshcat, state_logger = BuildAndSimulateTrajectory(\n",
    "    q_traj=q_traj,\n",
    "    g_traj=g_traj,\n",
    "    get_gripper_controller=get_gripper_controller_2,\n",
    "    T_world_objectInitial=T_world_objectInitial, # where to init the object in the world\n",
    "    T_world_targetBin=T_world_target, # where the ball should hit - aka where the bin will catch it\n",
    "    zmq_url=zmq_url,\n",
    ")\n",
    "\n",
    "visualize_transform(\n",
    "    meshcat,\n",
    "    \"TARGET\",\n",
    "    RigidTransform(RotationMatrix.MakeZRotation(0), P_WORLD_TARGET),\n",
    "    prefix='',\n",
    "    length=0.3,\n",
    "    radius=0.02\n",
    ")\n",
    "\n",
    "throw_time = 2\n",
    "meshcat.start_recording()\n",
    "print(f\"Throw motion should happen from 6.5 seconds to {6.5 + time_reqd} seconds\")\n",
    "print(f\"Running for {q_traj.end_time() + throw_time} seconds\")\n",
    "simulator.AdvanceTo(q_traj.end_time() + throw_time)\n",
    "meshcat.stop_recording()\n",
    "meshcat.publish_recording()"
   ]
  },
  {
   "cell_type": "markdown",
   "metadata": {},
   "source": [
    "### Simulation visualization (+ comparison with plan)"
   ]
  },
  {
   "cell_type": "code",
   "execution_count": 14,
   "metadata": {},
   "outputs": [
    {
     "name": "stdout",
     "output_type": "stream",
     "text": [
      "Approx release time: 6.6080000000000005\n"
     ]
    },
    {
     "data": {
      "image/png": "[encoded data removed]",
      "text/plain": [
       "<Figure size 720x864 with 1 Axes>"
      ]
     },
     "metadata": {
      "needs_background": "light"
     },
     "output_type": "display_data"
    }
   ],
   "source": [
    "plt.figure(figsize=(10, 12))\n",
    "\n",
    "all_log_times = state_logger.sample_times()\n",
    "chosen_idxs = (6 < all_log_times) & (all_log_times < 7)\n",
    "\n",
    "log_times = state_logger.sample_times()[chosen_idxs]\n",
    "log_states = state_logger.data()[:, chosen_idxs]\n",
    "\n",
    "for idx, r in enumerate(log_states[[10, 12]]):\n",
    "    plt.plot(log_times, r, label=f\"sim_joint_{2*idx+4}\")\n",
    "for idx, r in enumerate(log_states[[14, 15]]):\n",
    "    plt.plot(log_times, 10 *r, label=f\"sim_gripper_{idx}\")\n",
    "    \n",
    "q_plan = np.hstack([q_traj.value(t) for t in log_times])\n",
    "g_plan = np.hstack([g_traj.value(t) for t in log_times])\n",
    "for idx, r in enumerate(q_plan[[3, 5]]):\n",
    "    plt.plot(log_times, r, label=f\"plan_joint_{idx + 4}\")\n",
    "for idx, r in enumerate(g_plan):\n",
    "    plt.plot(log_times, r, label=f\"plan_gripper_{idx}\")\n",
    "\n",
    "for idx in [4, 6]:\n",
    "    plt.axhline(\n",
    "        y=release_ja[idx-1],\n",
    "        color=\"black\", linestyle=(0, (1, 2)), label=f\"plan_joint_idx\"\n",
    "    );\n",
    "\n",
    "approx_release_idx = np.where(log_states[15] > log_states[15].min() + 1e-4)[0][0]\n",
    "approx_release_time = log_times[approx_release_idx]\n",
    "print(f\"Approx release time: {approx_release_time}\")\n",
    "plt.axvline(\n",
    "    x=approx_release_time,\n",
    "    color=\"black\", linestyle=(0, (1, 2)), label=\"\"\n",
    ");\n",
    "\n",
    "plt.legend(bbox_to_anchor=(1, 1), loc='upper left', ncol=1);"
   ]
  },
  {
   "cell_type": "code",
   "execution_count": 16,
   "metadata": {},
   "outputs": [
    {
     "data": {
      "image/png": "[encoded data removed]",
      "text/plain": [
       "<Figure size 432x288 with 1 Axes>"
      ]
     },
     "metadata": {
      "needs_background": "light"
     },
     "output_type": "display_data"
    }
   ],
   "source": [
    "plt.plot(log_states[10], log_states[12]);\n",
    "plt.axvline(\n",
    "    x=release_ja[3],\n",
    "    color=\"black\", linestyle=(0, (1, 2))\n",
    ");\n",
    "plt.axhline(\n",
    "    y=release_ja[5],\n",
    "    color=\"black\", linestyle=(0, (1, 2))\n",
    ");"
   ]
  },
  {
   "cell_type": "code",
   "execution_count": 17,
   "metadata": {},
   "outputs": [
    {
     "data": {
      "text/plain": [
       "array([ 0.86 , -0.322,  0.432,  0.685, -2.939,  3.183, -0.96 ])"
      ]
     },
     "execution_count": 17,
     "metadata": {},
     "output_type": "execute_result"
    }
   ],
   "source": [
    "context = simulator.get_context()\n",
    "station_plant.GetPositions(\n",
    "    station_plant.GetMyContextFromRoot(context),\n",
    "    station_plant.GetModelInstanceByName(\"sphere\")\n",
    ")"
   ]
  }
 ],
 "metadata": {
  "kernelspec": {
   "display_name": "Python 3",
   "language": "python",
   "name": "python3"
  },
  "language_info": {
   "codemirror_mode": {
    "name": "ipython",
    "version": 3
   },
   "file_extension": ".py",
   "mimetype": "text/x-python",
   "name": "python",
   "nbconvert_exporter": "python",
   "pygments_lexer": "ipython3",
   "version": "3.6.9"
  }
 },
 "nbformat": 4,
 "nbformat_minor": 4
}
