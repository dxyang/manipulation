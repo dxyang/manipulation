{
 "cells": [
  {
   "cell_type": "code",
   "execution_count": 1,
   "metadata": {},
   "outputs": [],
   "source": [
    "import matplotlib.pyplot as plt\n",
    "import numpy as np\n",
    "\n",
    "import pydrake\n",
    "from pydrake.all import (\n",
    "    PiecewisePolynomial, RigidTransform, RotationMatrix\n",
    ")\n",
    "\n",
    "from src.drake_helpers import (\n",
    "    BuildAndSimulateTrajectory, \n",
    "    setup_manipulation_station,\n",
    "    visualize_transform, \n",
    ")\n",
    "from src.ik import (\n",
    "    create_q_knots, \n",
    "    pose_to_jointangles, \n",
    "    jointangles_to_pose, \n",
    "    spatial_velocity_jacobian_at_jointangles,\n",
    ")\n",
    "from src.throw import (\n",
    "    plan_pickup,\n",
    "    plan_prethrow_pose,\n",
    "    add_go_to_ja_via_jointinterpolation,\n",
    "    add_go_to_pose_via_jointinterpolation,\n",
    "    plan_throw,\n",
    ")\n",
    "from src.trajectory import get_launch_speed_required\n",
    "\n",
    "# cleaner debugging\n",
    "np.set_printoptions(precision=3, suppress=True)"
   ]
  },
  {
   "cell_type": "code",
   "execution_count": 2,
   "metadata": {},
   "outputs": [
    {
     "name": "stdout",
     "output_type": "stream",
     "text": [
      "http://127.0.0.1:7000/static/\n"
     ]
    }
   ],
   "source": [
    "# start a single meshcat server instance to use for remainder of this notebook.\n",
    "from meshcat.servers.zmqserver import start_zmq_server_as_subprocess\n",
    "proc, zmq_url, web_url = start_zmq_server_as_subprocess(server_args=[])\n",
    "print(web_url)"
   ]
  },
  {
   "cell_type": "markdown",
   "metadata": {},
   "source": [
    "## The next cell determines everything relevant to the throw"
   ]
  },
  {
   "cell_type": "code",
   "execution_count": 4,
   "metadata": {},
   "outputs": [
    {
     "name": "stdout",
     "output_type": "stream",
     "text": [
      "Connecting to meshcat-server at zmq_url=tcp://127.0.0.1:6000...\n",
      "You can open the visualizer by visiting the following URL:\n",
      "http://127.0.0.1:7000/static/\n",
      "Connected to meshcat-server.\n",
      "-------Planning throw\n",
      "Release joint angles: [ 0.    0.    0.    1.55  0.   -1.5   0.    0.    0.  ]\n",
      "[[ 0.185 -0.194]\n",
      " [ 0.     0.   ]\n",
      " [-0.417  0.018]]\n",
      "Release spatial direction: [-0.361 -0.     0.393]\n",
      "Throw angle (above xy plane) degs: 47.48765882906085\n",
      "Initial velocity magnitude: 1.1386085907998207\n",
      "time required: 0.46857006394349554\n"
     ]
    }
   ],
   "source": [
    "'''\n",
    "setup\n",
    "'''\n",
    "# Get initial pose of the gripper by using default context of manip station.\n",
    "P_WORLD_TARGET = np.array([-0.75, 0, 0])#np.array([-1, 1, 0])\n",
    "GRIPPER_TO_OBJECT_DIST = 0.13 # meters\n",
    "T_world_objectInitial = RigidTransform(\n",
    "    p=[-.1, -.69, 1.04998503e-01],\n",
    "    R=RotationMatrix.MakeZRotation(np.pi/2.0)\n",
    ")\n",
    "T_world_gripperObject = RigidTransform(\n",
    "    p=T_world_objectInitial.translation() + np.array([0, 0, GRIPPER_TO_OBJECT_DIST]),\n",
    "    R=RotationMatrix.MakeXRotation(-np.pi/2.0)\n",
    ")\n",
    "T_world_robotInitial, meshcat = setup_manipulation_station(T_world_objectInitial, zmq_url)\n",
    "\n",
    "#object frame viz\n",
    "visualize_transform(meshcat, \"T_world_obj0\", T_world_objectInitial)\n",
    "T_world_target = RigidTransform(\n",
    "    p=P_WORLD_TARGET,\n",
    "    R=RotationMatrix()\n",
    ")\n",
    "visualize_transform(meshcat, \"T_world_obj0\", T_world_objectInitial)\n",
    "visualize_transform(meshcat, \"target\", T_world_target)\n",
    "\n",
    "'''\n",
    "throw\n",
    "* heading (top down view of the xy plane, relative to the positive x axis)\n",
    "* release angle (relative to azimuth)\n",
    "* release velocity\n",
    "'''\n",
    "print(f\"-------Planning throw\")\n",
    "throw_heading = np.arctan2(P_WORLD_TARGET[1], P_WORLD_TARGET[0])\n",
    "\n",
    "# we need these states to calculate the jacobian\n",
    "ja1 = throw_heading - np.pi\n",
    "# you can play around with these to achieve different \"release\" poses\n",
    "prethrow_ja = np.array([ja1, 0, 0, 2.00, 0, -2.0, 0, 0, 0])\n",
    "throwend_ja = np.array([ja1, 0, 0, 1.1, 0, -1.0, 0, 0, 0])\n",
    "release_ja = prethrow_ja + 0.5 * (throwend_ja - prethrow_ja)\n",
    "print(f\"Release joint angles: {release_ja}\")\n",
    "\n",
    "# calculate jacobian at release\n",
    "J_G = spatial_velocity_jacobian_at_jointangles(release_ja[:7])\n",
    "J_G_joint4 = J_G[3:, 3] # spatial velocity only\n",
    "J_G_joint6 = J_G[3:, 5] # spatial velocity only\n",
    "J_G_joints46 = np.zeros((3, 2))\n",
    "J_G_joints46[:, 0] = J_G_joint4\n",
    "J_G_joints46[:, 1] = J_G_joint6\n",
    "print(J_G_joints46)\n",
    "\n",
    "# calculate angle at release\n",
    "release_spatial_dir = J_G_joints46 @ (throwend_ja - prethrow_ja)[[3, 5]]\n",
    "print(f\"Release spatial direction: {release_spatial_dir}\")\n",
    "angle_above_plane_rads = np.arctan2(\n",
    "    release_spatial_dir[2],\n",
    "    np.linalg.norm(release_spatial_dir[:2])\n",
    ")\n",
    "print(f\"Throw angle (above xy plane) degs: {angle_above_plane_rads * 180.0 / np.pi}\")\n",
    "\n",
    "# calculate required release velocity magnitude\n",
    "p_release = jointangles_to_pose(release_ja[:7]).translation() # modify to account for GRIPPER_TO_OBJECT_DIST\n",
    "delta_x = np.linalg.norm(P_WORLD_TARGET[:2]) - np.linalg.norm(p_release[:2]) # dist on xy plane\n",
    "delta_y = P_WORLD_TARGET[2] - p_release[2] # height difference\n",
    "mag_v0_reqd = get_launch_speed_required(theta=angle_above_plane_rads, x=delta_x, y=delta_y)\n",
    "print(f\"Initial velocity magnitude: {mag_v0_reqd}\")\n",
    "\n",
    "# calculate required time for throw motion\n",
    "time_reqd = np.linalg.norm(release_spatial_dir) / mag_v0_reqd\n",
    "print(f\"time required: {time_reqd}\")\n",
    "\n",
    "'''\n",
    "timings\n",
    "'''\n",
    "t_goToObj = 1.0\n",
    "t_holdObj = 0.5\n",
    "t_goToPreobj = 1.0\n",
    "t_goToWaypoint = 2.0\n",
    "t_goToPrethrow = 2.0 # must be greater than 1.0 for a 1 second hold to stabilize\n",
    "t_goToThrowEnd = time_reqd "
   ]
  },
  {
   "cell_type": "markdown",
   "metadata": {},
   "source": [
    "# Generate trajectories in joint angle space with timings from above"
   ]
  },
  {
   "cell_type": "markdown",
   "metadata": {},
   "source": [
    "### End-effector trajectory"
   ]
  },
  {
   "cell_type": "code",
   "execution_count": 5,
   "metadata": {},
   "outputs": [],
   "source": [
    "# plan pickup\n",
    "t_lst, q_knots, total_time = plan_pickup(T_world_robotInitial, T_world_gripperObject,\n",
    "    t_goToObj=t_goToObj,\n",
    "    t_holdObj=t_holdObj,\n",
    "    t_goToPreobj=t_goToPreobj\n",
    ")\n",
    "\n",
    "# clear the bins via a waypoint\n",
    "T_world_hackyWayPoint = RigidTransform(\n",
    "    p=[-.6, -0.0, 0.6],\n",
    "    R=RotationMatrix.MakeXRotation(-np.pi/2.0), #R_WORLD_PRETHROW, #RotationMatrix.MakeXRotation(-np.pi/2.0),\n",
    ")\n",
    "t_lst, q_knots = add_go_to_pose_via_jointinterpolation(\n",
    "    T_world_robotInitial, \n",
    "    T_world_hackyWayPoint, \n",
    "    t_start=total_time,\n",
    "    t_lst=t_lst,\n",
    "    q_knots=q_knots,\n",
    "    time_interval_s=t_goToWaypoint\n",
    ")\n",
    "\n",
    "# go to prethrow\n",
    "t_lst, q_knots = add_go_to_ja_via_jointinterpolation(\n",
    "    pose_to_jointangles(T_world_hackyWayPoint), \n",
    "    prethrow_ja, \n",
    "    t_start=total_time + t_goToWaypoint,\n",
    "    t_lst=t_lst,\n",
    "    q_knots=q_knots,\n",
    "    time_interval_s=t_goToPrethrow,\n",
    "    hold_time_s=1.0,\n",
    ")\n",
    "\n",
    "# go to throw\n",
    "t_lst, q_knots = add_go_to_ja_via_jointinterpolation(\n",
    "    prethrow_ja,\n",
    "    throwend_ja,\n",
    "    t_start=total_time + t_goToWaypoint + t_goToPrethrow,\n",
    "    t_lst=t_lst,\n",
    "    q_knots=q_knots,\n",
    "    time_interval_s=t_goToThrowEnd,\n",
    "    num_samples=5,\n",
    "    include_end=True\n",
    ")\n",
    "\n",
    "# turn trajectory into joint space\n",
    "q_knots = np.array(q_knots)\n",
    "q_traj = PiecewisePolynomial.CubicShapePreserving(t_lst, q_knots[:, 0:7].T)"
   ]
  },
  {
   "cell_type": "markdown",
   "metadata": {},
   "source": [
    "### Gripper trajectory"
   ]
  },
  {
   "cell_type": "code",
   "execution_count": 9,
   "metadata": {},
   "outputs": [],
   "source": [
    "# make gripper trajectory\n",
    "delay_hack = 0.00\n",
    "gripper_times_lst = np.array([\n",
    "    0.,\n",
    "    t_goToObj,\n",
    "    t_holdObj,\n",
    "    t_goToPreobj,\n",
    "    t_goToWaypoint,\n",
    "    t_goToPrethrow,\n",
    "    t_goToThrowEnd / 2.0 + delay_hack, # should be some portion of t_goToThrowEnd\n",
    "    1e-9,\n",
    "    t_goToThrowEnd / 2.0 - delay_hack, # should be some portion of t_goToThrowEnd\n",
    "])\n",
    "gripper_cumulative_times_lst = np.cumsum(gripper_times_lst)\n",
    "GRIPPER_OPEN = 0.5\n",
    "GRIPPER_CLOSED = 0.0\n",
    "gripper_knots = np.array([\n",
    "    GRIPPER_OPEN,\n",
    "    GRIPPER_OPEN,\n",
    "    GRIPPER_CLOSED,\n",
    "    GRIPPER_CLOSED,\n",
    "    GRIPPER_CLOSED,\n",
    "    GRIPPER_CLOSED,\n",
    "    GRIPPER_CLOSED,\n",
    "    GRIPPER_OPEN,\n",
    "    GRIPPER_OPEN,\n",
    "]).reshape(1, gripper_times_lst.shape[0])\n",
    "g_traj = PiecewisePolynomial.FirstOrderHold(gripper_cumulative_times_lst, gripper_knots)"
   ]
  },
  {
   "cell_type": "markdown",
   "metadata": {},
   "source": [
    "### Visualizing trajectories"
   ]
  },
  {
   "cell_type": "code",
   "execution_count": 11,
   "metadata": {},
   "outputs": [
    {
     "data": {
      "image/png": "[encoded data removed]",
      "text/plain": [
       "<Figure size 720x288 with 1 Axes>"
      ]
     },
     "metadata": {
      "needs_background": "light"
     },
     "output_type": "display_data"
    }
   ],
   "source": [
    "plt.figure(figsize=(10, 4))\n",
    "\n",
    "viz_times = np.linspace(q_traj.end_time() - 1.6, q_traj.end_time(), 1000)\n",
    "q_plan = np.hstack([q_traj.value(t) for t in viz_times])\n",
    "g_plan = np.hstack([g_traj.value(t) for t in viz_times])\n",
    "\n",
    "for idx, r in enumerate(q_plan):\n",
    "    plt.plot(viz_times, r, label=f\"joint_{idx + 1}\")\n",
    "for idx, r in enumerate(g_plan):\n",
    "    plt.plot(viz_times, r, label=f\"gripper_{idx + 1}\")\n",
    "    \n",
    "plt.axvline(\n",
    "    x=gripper_cumulative_times_lst[-2],\n",
    "    color=\"black\", linestyle=(0, (1, 10)), label=\"t_release\"\n",
    ");\n",
    "plt.legend(bbox_to_anchor=(1, 1), loc='upper left', ncol=1);"
   ]
  },
  {
   "cell_type": "markdown",
   "metadata": {},
   "source": [
    "# Run simulation"
   ]
  },
  {
   "cell_type": "code",
   "execution_count": 12,
   "metadata": {},
   "outputs": [
    {
     "name": "stdout",
     "output_type": "stream",
     "text": [
      "Connecting to meshcat-server at zmq_url=tcp://127.0.0.1:6000...\n",
      "You can open the visualizer by visiting the following URL:\n",
      "http://127.0.0.1:7000/static/\n",
      "Connected to meshcat-server.\n",
      "Throw motion should happen from 6.5 seconds to 6.9685700639434955 seconds\n",
      "Running for 8.968570063943496 seconds\n"
     ]
    }
   ],
   "source": [
    "# do the thing\n",
    "simulator, station_plant, meshcat, state_logger = BuildAndSimulateTrajectory(\n",
    "    q_traj, g_traj, T_world_objectInitial, None, zmq_url\n",
    ")\n",
    "visualize_transform(\n",
    "    meshcat,\n",
    "    \"TARGET\",\n",
    "    RigidTransform(RotationMatrix.MakeZRotation(0), P_WORLD_TARGET),\n",
    "    prefix='',\n",
    "    length=0.3,\n",
    "    radius=0.02\n",
    ")\n",
    "\n",
    "throw_time = 2\n",
    "meshcat.start_recording()\n",
    "print(f\"Throw motion should happen from 6.5 seconds to {6.5 + time_reqd} seconds\")\n",
    "print(f\"Running for {q_traj.end_time() + throw_time} seconds\")\n",
    "simulator.AdvanceTo(q_traj.end_time() + throw_time)\n",
    "meshcat.stop_recording()\n",
    "meshcat.publish_recording()"
   ]
  },
  {
   "cell_type": "markdown",
   "metadata": {},
   "source": [
    "### Simulation visualization (+ comparison with plan)"
   ]
  },
  {
   "cell_type": "code",
   "execution_count": 15,
   "metadata": {},
   "outputs": [
    {
     "data": {
      "image/png": "[encoded data removed]",
      "text/plain": [
       "<Figure size 720x432 with 1 Axes>"
      ]
     },
     "metadata": {
      "needs_background": "light"
     },
     "output_type": "display_data"
    }
   ],
   "source": [
    "plt.figure(figsize=(10, 6))\n",
    "\n",
    "all_log_times = state_logger.sample_times()\n",
    "chosen_idxs = (6.65 < all_log_times) & (all_log_times < 6.8)\n",
    "\n",
    "log_times = state_logger.sample_times()[chosen_idxs]\n",
    "log_states = state_logger.data()[:, chosen_idxs]\n",
    "\n",
    "#\n",
    "for idx, r in enumerate(log_states[[10, 12]]):\n",
    "    plt.plot(log_times, r, label=f\"sim_joint_{idx+4}\")\n",
    "for idx, r in enumerate(log_states[[14, 15]]):\n",
    "    plt.plot(log_times, 10 *r, label=f\"sim_gripper_{idx}\")\n",
    "    \n",
    "q_plan = np.hstack([q_traj.value(t) for t in log_times])\n",
    "g_plan = np.hstack([g_traj.value(t) for t in log_times])\n",
    "for idx, r in enumerate(q_plan[[3, 5]]):\n",
    "    plt.plot(log_times, r, label=f\"joint_{idx + 4}\")\n",
    "for idx, r in enumerate(g_plan):\n",
    "    plt.plot(log_times, r, label=f\"gripper_{idx}\")\n",
    "    \n",
    "plt.axvline(\n",
    "    x=gripper_cumulative_times_lst[-2],\n",
    "    color=\"black\", linestyle=(0, (1, 10)), label=\"t_release\"\n",
    ");\n",
    "plt.legend(bbox_to_anchor=(1, 1), loc='upper left', ncol=1);"
   ]
  },
  {
   "cell_type": "code",
   "execution_count": 119,
   "metadata": {},
   "outputs": [
    {
     "data": {
      "text/plain": [
       "array([  0.   ,  -0.9  ,   0.   ,  -0.438,  -3.575,  -0.   , -22.06 ])"
      ]
     },
     "execution_count": 119,
     "metadata": {},
     "output_type": "execute_result"
    }
   ],
   "source": [
    "context = simulator.get_context()\n",
    "station_plant.GetPositions(\n",
    "    station_plant.GetMyContextFromRoot(context),\n",
    "    station_plant.GetModelInstanceByName(\"sphere\")\n",
    ")"
   ]
  }
 ],
 "metadata": {
  "kernelspec": {
   "display_name": "Python 3",
   "language": "python",
   "name": "python3"
  },
  "language_info": {
   "codemirror_mode": {
    "name": "ipython",
    "version": 3
   },
   "file_extension": ".py",
   "mimetype": "text/x-python",
   "name": "python",
   "nbconvert_exporter": "python",
   "pygments_lexer": "ipython3",
   "version": "3.6.9"
  }
 },
 "nbformat": 4,
 "nbformat_minor": 4
}
