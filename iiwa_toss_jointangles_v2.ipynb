{
 "cells": [
  {
   "cell_type": "code",
   "execution_count": 1,
   "metadata": {},
   "outputs": [],
   "source": [
    "%load_ext autoreload\n",
    "%autoreload 2\n",
    "\n",
    "import matplotlib.pyplot as plt\n",
    "import numpy as np\n",
    "import scipy.optimize\n",
    "\n",
    "import pydrake\n",
    "from pydrake.all import (\n",
    "    PiecewisePolynomial, RigidTransform, RotationMatrix, JacobianWrtVariable,\n",
    "    MathematicalProgram\n",
    ")\n",
    "\n",
    "from src.drake_helpers import (\n",
    "    get_basic_manip_station,\n",
    "    BuildAndSimulateTrajectory, \n",
    "    setup_manipulation_station,\n",
    "    visualize_transform,\n",
    "    GripperControllerUsingIiwaState,\n",
    "    GripperControllerUsingIiwaStateV2,\n",
    "    GripperControllerUsingIiwaStateV3,\n",
    ")\n",
    "from src.ik import (\n",
    "    create_q_knots, \n",
    "    pose_to_jointangles, \n",
    "    jointangles_to_pose, \n",
    "    spatial_velocity_jacobian_at_jointangles,\n",
    ")\n",
    "from src.throw import (\n",
    "    plan_pickup,\n",
    "    plan_prethrow_pose,\n",
    "    add_go_to_ja_via_jointinterpolation,\n",
    "    add_go_to_pose_via_jointinterpolation,\n",
    "    plan_throw,\n",
    ")\n",
    "from src.trajectory import (\n",
    "    get_launch_angle_required,\n",
    "    get_launch_speed_required,\n",
    ")\n",
    "\n",
    "# cleaner debugging\n",
    "np.set_printoptions(precision=3, suppress=True)"
   ]
  },
  {
   "cell_type": "code",
   "execution_count": 2,
   "metadata": {},
   "outputs": [
    {
     "name": "stdout",
     "output_type": "stream",
     "text": [
      "http://127.0.0.1:7000/static/\n"
     ]
    }
   ],
   "source": [
    "# start a single meshcat server instance to use for remainder of this notebook.\n",
    "from meshcat.servers.zmqserver import start_zmq_server_as_subprocess\n",
    "proc, zmq_url, web_url = start_zmq_server_as_subprocess(server_args=[])\n",
    "print(web_url)"
   ]
  },
  {
   "cell_type": "code",
   "execution_count": 3,
   "metadata": {},
   "outputs": [],
   "source": [
    "# Initialize global plants ONCE for IK calculations\n",
    "# This speed up exectuation greatly.\n",
    "GLOBAL_PLANT, GLOBAL_CONTEXT = get_basic_manip_station()"
   ]
  },
  {
   "cell_type": "markdown",
   "metadata": {},
   "source": [
    "# Define throw problem"
   ]
  },
  {
   "cell_type": "code",
   "execution_count": 4,
   "metadata": {},
   "outputs": [
    {
     "name": "stdout",
     "output_type": "stream",
     "text": [
      "Connecting to meshcat-server at zmq_url=tcp://127.0.0.1:6000...\n",
      "You can open the visualizer by visiting the following URL:\n",
      "http://127.0.0.1:7000/static/\n",
      "Connected to meshcat-server.\n"
     ]
    }
   ],
   "source": [
    "# Get initial pose of the gripper by using default context of manip station.\n",
    "P_WORLD_TARGET = np.array([-3, 3, 2])\n",
    "APPROACH_ANGLE = -72 / 180.0 * np.pi\n",
    "\n",
    "GRIPPER_TO_OBJECT_FRAME_DIST = 0.13 # meters, this is how much \"above\" the balls origin we must send the gripper body frame in order to successfully grasp the object\n",
    "GRIPPER_TO_OBJECT_COM_DIST = 0.13 - 0.04\n",
    "\n",
    "T_world_target = RigidTransform(RotationMatrix(), P_WORLD_TARGET)\n",
    "T_world_objectInitial = RigidTransform(\n",
    "    p=[-.1, -.69, 1.04998503e-01],\n",
    "    R=RotationMatrix.MakeZRotation(np.pi/2.0)\n",
    ")\n",
    "T_world_gripperObject = RigidTransform(\n",
    "    p=T_world_objectInitial.translation() + np.array([0, 0, GRIPPER_TO_OBJECT_FRAME_DIST]),\n",
    "    R=RotationMatrix.MakeXRotation(-np.pi/2.0)\n",
    ")\n",
    "\n",
    "# Set starting and ending joint angles for throw\n",
    "throw_heading = np.arctan2(P_WORLD_TARGET[1], P_WORLD_TARGET[0])\n",
    "ja1 = throw_heading - np.pi\n",
    "# TODO: edit these to work better for large angles.\n",
    "PRETHROW_JA = np.array([ja1, 0, 0, 2.00, 0, -2.0, 0, 0, 0])\n",
    "THROWEND_JA = np.array([ja1, 0, 0, 0.5, 0, -0.5, 0, 0, 0])\n",
    "T_world_prethrowPose = jointangles_to_pose(\n",
    "    plant=GLOBAL_PLANT,\n",
    "    context=GLOBAL_CONTEXT,\n",
    "    jointangles=PRETHROW_JA[:7],\n",
    ")\n",
    "\n",
    "T_world_robotInitial, meshcat = setup_manipulation_station(T_world_objectInitial, zmq_url, T_world_target)\n",
    "\n",
    "#object frame viz\n",
    "visualize_transform(meshcat, \"T_world_obj0\", T_world_objectInitial)\n",
    "T_world_target = RigidTransform(\n",
    "    p=P_WORLD_TARGET,\n",
    "    R=RotationMatrix()\n",
    ")\n",
    "visualize_transform(meshcat, \"T_world_obj0\", T_world_objectInitial)\n",
    "visualize_transform(meshcat, \"target\", T_world_target)"
   ]
  },
  {
   "cell_type": "markdown",
   "metadata": {},
   "source": [
    "### Compute release point via optimization\n",
    "We use a scipy optimizer because a black-box optimizer is easy to implement."
   ]
  },
  {
   "cell_type": "code",
   "execution_count": 5,
   "metadata": {},
   "outputs": [
    {
     "name": "stdout",
     "output_type": "stream",
     "text": [
      "Throw motion will take: 0.1373 seconds\n",
      "Releasing at 0.5701 along the motion\n",
      "Launch angle (degrees): 75.17242416196072\n"
     ]
    }
   ],
   "source": [
    "def throw_objective(inp, g=9.81, alpha=1, return_launch_angle=False):\n",
    "    throw_motion_time, release_frac = inp\n",
    "\n",
    "    release_ja = PRETHROW_JA + release_frac * (THROWEND_JA - PRETHROW_JA)\n",
    "\n",
    "    T_world_releasePose = jointangles_to_pose(\n",
    "        plant=GLOBAL_PLANT,\n",
    "        context=GLOBAL_CONTEXT,\n",
    "        jointangles=release_ja[:7]\n",
    "    )\n",
    "    p_release = (\n",
    "        T_world_releasePose.translation()\n",
    "      + T_world_releasePose.rotation().multiply([0, GRIPPER_TO_OBJECT_COM_DIST, 0])\n",
    "    )\n",
    "\n",
    "    J_release = spatial_velocity_jacobian_at_jointangles(\n",
    "        plant=GLOBAL_PLANT,\n",
    "        context=GLOBAL_CONTEXT,\n",
    "        jointangles=release_ja[:7],\n",
    "        gripper_to_object_dist=GRIPPER_TO_OBJECT_COM_DIST # <==== important\n",
    "    )[3:6]\n",
    "    v_release = J_release @ ((THROWEND_JA - PRETHROW_JA) / throw_motion_time)[:7]\n",
    "\n",
    "    x = np.linalg.norm((P_WORLD_TARGET - p_release)[:2])\n",
    "    y = (P_WORLD_TARGET - p_release)[2]\n",
    "    vx = np.linalg.norm(v_release[:2])\n",
    "    vy = v_release[2]\n",
    "\n",
    "    tta = x / vx\n",
    "    y_hat = vy * tta - 0.5 * g * tta ** 2\n",
    "    phi_hat = np.arctan((vy - g * tta) / vx)\n",
    "\n",
    "    objective = (\n",
    "        (p_release[2] + y_hat - P_WORLD_TARGET[2]) ** 2\n",
    "      + alpha * (phi_hat - APPROACH_ANGLE) ** 2\n",
    "    )\n",
    "    \n",
    "    if return_launch_angle:\n",
    "        return np.arctan2(vy, vx)\n",
    "    else:\n",
    "        return objective\n",
    "\n",
    "\"\"\"\n",
    "res = scipy.optimize.shgo(\n",
    "    func=throw_objectives,\n",
    "    bounds=[(1e-3, 10), (1e-3, 1-1e-3)],\n",
    "    x0=np.array([0.3, 0.5]),\n",
    "    minimizer_kwargs={\n",
    "        \"method\": \"nelder-mead\",\n",
    "        \"args\": (9.81, 1)\n",
    "    },\n",
    "    iters=1,\n",
    "    options={\"f_min\": 0},\n",
    ")\n",
    "\"\"\"\n",
    "res = scipy.optimize.minimize(\n",
    "    throw_objective,\n",
    "    x0=np.array([0.3, 0.5]),\n",
    "    method=\"nelder-mead\",\n",
    "    options={\"xatol\": 1e-8, \"disp\": False}\n",
    ")\n",
    "\n",
    "assert throw_objective(res.x) < 1e-6, \"Desired throw impossible?\"\n",
    "throw_motion_time, release_frac = res.x\n",
    "launch_angle = throw_objective(res.x, return_launch_angle=True)\n",
    "print(f\"Throw motion will take: {throw_motion_time:.4f} seconds\")\n",
    "print(f\"Releasing at {release_frac:.4f} along the motion\")\n",
    "print(f\"Launch angle (degrees): {launch_angle / np.pi * 180.0}\")\n",
    "\n",
    "release_ja = PRETHROW_JA + release_frac * (THROWEND_JA - PRETHROW_JA)\n",
    "T_world_releasePose = jointangles_to_pose(\n",
    "    plant=GLOBAL_PLANT,\n",
    "    context=GLOBAL_CONTEXT,\n",
    "    jointangles=release_ja[:7],\n",
    ")\n",
    "\n",
    "\n",
    "'''\n",
    "timings\n",
    "'''\n",
    "t_goToObj = 1.0\n",
    "t_holdObj = 0.5\n",
    "t_goToPreobj = 1.0\n",
    "t_goToWaypoint = 2.0\n",
    "t_goToPrethrow = 2.0 # must be greater than 1.0 for a 1 second hold to stabilize\n",
    "t_goToThrowEnd = throw_motion_time"
   ]
  },
  {
   "cell_type": "code",
   "execution_count": 6,
   "metadata": {},
   "outputs": [
    {
     "name": "stdout",
     "output_type": "stream",
     "text": [
      "Release joint angles: [-0.785  0.     0.     1.145  0.    -1.145  0.     0.     0.   ]\n",
      "[[ 0.016 -0.132]\n",
      " [-0.016  0.132]\n",
      " [-0.578  0.214]]\n",
      "Release spatial direction: [-0.222  0.222  1.188]\n",
      "Throw angle (above xy plane) degs: 75.1724241619607\n",
      "Initial velocity magnitude: 8.948663416598853\n",
      "time required: 0.13732847882949256\n",
      "Analytical approach_angle (deg): -71.99999948154837\n",
      "Desired approach_angle (deg): -72.0\n"
     ]
    }
   ],
   "source": [
    "def check_calc():\n",
    "    # we need these states to calculate the jacobian\n",
    "    ja1 = throw_heading - np.pi\n",
    "    # you can play around with these to achieve different \"release\" poses\n",
    "    release_ja = PRETHROW_JA + release_frac * (THROWEND_JA - PRETHROW_JA)\n",
    "    T_world_releasePose = jointangles_to_pose(GLOBAL_PLANT, GLOBAL_CONTEXT, release_ja[:7])\n",
    "    T_world_prethrowPose = jointangles_to_pose(GLOBAL_PLANT, GLOBAL_CONTEXT, PRETHROW_JA[:7])\n",
    "    print(f\"Release joint angles: {release_ja}\")\n",
    "\n",
    "    # calculate jacobian at release \n",
    "    J_G = spatial_velocity_jacobian_at_jointangles(\n",
    "        plant=GLOBAL_PLANT,\n",
    "        context=GLOBAL_CONTEXT,\n",
    "        jointangles=release_ja[:7],\n",
    "        gripper_to_object_dist=GRIPPER_TO_OBJECT_COM_DIST # <==== important\n",
    "    )\n",
    "    J_G_joint4 = J_G[3:, 3] # spatial velocity only\n",
    "    J_G_joint6 = J_G[3:, 5] # spatial velocity only\n",
    "    J_G_joints46 = np.zeros((3, 2))\n",
    "    J_G_joints46[:, 0] = J_G_joint4\n",
    "    J_G_joints46[:, 1] = J_G_joint6\n",
    "    print(J_G_joints46)\n",
    "\n",
    "    # calculate angle at release\n",
    "    release_spatial_dir = J_G_joints46 @ (THROWEND_JA - PRETHROW_JA)[[3, 5]]\n",
    "    print(f\"Release spatial direction: {release_spatial_dir}\")\n",
    "    angle_above_plane_rads = np.arctan2(\n",
    "        release_spatial_dir[2],\n",
    "        np.linalg.norm(release_spatial_dir[:2])\n",
    "    )\n",
    "    print(f\"Throw angle (above xy plane) degs: {angle_above_plane_rads * 180.0 / np.pi}\")\n",
    "\n",
    "    # calculate required release velocity magnitude\n",
    "    p_release = (\n",
    "        T_world_releasePose.translation()\n",
    "      + T_world_releasePose.rotation().multiply([0, GRIPPER_TO_OBJECT_COM_DIST, 0])\n",
    "    )\n",
    "    delta_x = np.linalg.norm(P_WORLD_TARGET[:2]) - np.linalg.norm(p_release[:2]) # dist on xy plane\n",
    "    delta_y = P_WORLD_TARGET[2] - p_release[2] # height difference\n",
    "    mag_v0_reqd = get_launch_speed_required(theta=angle_above_plane_rads, x=delta_x, y=delta_y)\n",
    "    mag_v0_reqd = mag_v0_reqd\n",
    "    print(f\"Initial velocity magnitude: {mag_v0_reqd}\")\n",
    "\n",
    "    # calculate required time for throw motion\n",
    "    time_reqd = np.linalg.norm(release_spatial_dir) / mag_v0_reqd\n",
    "    print(f\"time required: {time_reqd}\")\n",
    "    \n",
    "    approach_angle = np.arctan(2 * delta_y / delta_x - np.tan(angle_above_plane_rads))\n",
    "    print(f\"Analytical approach_angle (deg): {approach_angle * 180.0 / np.pi}\")\n",
    "    print(f\"Desired approach_angle (deg): {APPROACH_ANGLE * 180.0 / np.pi}\")\n",
    "    \n",
    "check_calc()"
   ]
  },
  {
   "cell_type": "markdown",
   "metadata": {},
   "source": [
    "# Generate trajectories in joint angle space with timings from above"
   ]
  },
  {
   "cell_type": "markdown",
   "metadata": {},
   "source": [
    "### End-effector trajectory"
   ]
  },
  {
   "cell_type": "code",
   "execution_count": 7,
   "metadata": {},
   "outputs": [],
   "source": [
    "# plan pickup\n",
    "t_lst, q_knots, total_time = plan_pickup(T_world_robotInitial, T_world_gripperObject,\n",
    "    t_goToObj=t_goToObj,\n",
    "    t_holdObj=t_holdObj,\n",
    "    t_goToPreobj=t_goToPreobj\n",
    ")\n",
    "\n",
    "# clear the bins via a waypoint\n",
    "T_world_hackyWayPoint = RigidTransform(\n",
    "    p=[-.6, -0.0, 0.6],\n",
    "    R=RotationMatrix.MakeXRotation(-np.pi/2.0), #R_WORLD_PRETHROW, #RotationMatrix.MakeXRotation(-np.pi/2.0),\n",
    ")\n",
    "t_lst, q_knots = add_go_to_pose_via_jointinterpolation(\n",
    "    T_world_robotInitial, \n",
    "    T_world_hackyWayPoint, \n",
    "    t_start=total_time,\n",
    "    t_lst=t_lst,\n",
    "    q_knots=q_knots,\n",
    "    time_interval_s=t_goToWaypoint\n",
    ")\n",
    "\n",
    "# go to prethrow\n",
    "t_lst, q_knots = add_go_to_ja_via_jointinterpolation(\n",
    "    pose_to_jointangles(T_world_hackyWayPoint), \n",
    "    PRETHROW_JA, \n",
    "    t_start=total_time + t_goToWaypoint,\n",
    "    t_lst=t_lst,\n",
    "    q_knots=q_knots,\n",
    "    time_interval_s=t_goToPrethrow,\n",
    "    hold_time_s=1.0,\n",
    ")\n",
    "\n",
    "# go to throw\n",
    "t_lst, q_knots = add_go_to_ja_via_jointinterpolation(\n",
    "    PRETHROW_JA,\n",
    "    THROWEND_JA,\n",
    "    t_start=total_time + t_goToWaypoint + t_goToPrethrow,\n",
    "    t_lst=t_lst,\n",
    "    q_knots=q_knots,\n",
    "    time_interval_s=t_goToThrowEnd,\n",
    "    num_samples=30,\n",
    "    include_end=True\n",
    ")\n",
    "\n",
    "# turn trajectory into joint space\n",
    "q_knots = np.array(q_knots)\n",
    "q_traj = PiecewisePolynomial.CubicShapePreserving(t_lst, q_knots[:, 0:7].T)"
   ]
  },
  {
   "cell_type": "markdown",
   "metadata": {},
   "source": [
    "### Gripper trajectory"
   ]
  },
  {
   "cell_type": "code",
   "execution_count": 8,
   "metadata": {},
   "outputs": [],
   "source": [
    "# make gripper trajectory\n",
    "gripper_times_lst = np.array([\n",
    "    0.,\n",
    "    t_goToObj,\n",
    "    t_holdObj,\n",
    "    t_goToPreobj,\n",
    "    t_goToWaypoint,\n",
    "    t_goToPrethrow,\n",
    "    release_frac * t_goToThrowEnd,\n",
    "    1e-9,\n",
    "    (1 - release_frac) * t_goToThrowEnd,\n",
    "])\n",
    "gripper_cumulative_times_lst = np.cumsum(gripper_times_lst)\n",
    "GRIPPER_OPEN = 0.5\n",
    "GRIPPER_CLOSED = 0.0\n",
    "gripper_knots = np.array([\n",
    "    GRIPPER_OPEN,\n",
    "    GRIPPER_OPEN,\n",
    "    GRIPPER_CLOSED,\n",
    "    GRIPPER_CLOSED,\n",
    "    GRIPPER_CLOSED,\n",
    "    GRIPPER_CLOSED,\n",
    "    GRIPPER_CLOSED,\n",
    "    GRIPPER_OPEN,\n",
    "    GRIPPER_OPEN,\n",
    "]).reshape(1, gripper_times_lst.shape[0])\n",
    "g_traj = PiecewisePolynomial.FirstOrderHold(gripper_cumulative_times_lst, gripper_knots)"
   ]
  },
  {
   "cell_type": "markdown",
   "metadata": {},
   "source": [
    "### Visualizing trajectories"
   ]
  },
  {
   "cell_type": "code",
   "execution_count": 9,
   "metadata": {},
   "outputs": [
    {
     "data": {
      "image/png": "[encoded data removed]",
      "text/plain": [
       "<Figure size 720x288 with 1 Axes>"
      ]
     },
     "metadata": {
      "needs_background": "light"
     },
     "output_type": "display_data"
    }
   ],
   "source": [
    "plt.figure(figsize=(10, 4))\n",
    "\n",
    "viz_times = np.linspace(q_traj.end_time() - 1.6, q_traj.end_time(), 1000)\n",
    "q_plan = np.hstack([q_traj.value(t) for t in viz_times])\n",
    "g_plan = np.hstack([g_traj.value(t) for t in viz_times])\n",
    "\n",
    "for idx, r in enumerate(q_plan):\n",
    "    plt.plot(viz_times, r, label=f\"joint_{idx + 1}\")\n",
    "for idx, r in enumerate(g_plan):\n",
    "    plt.plot(viz_times, r, label=f\"gripper_{idx + 1}\")\n",
    "    \n",
    "plt.axvline(\n",
    "    x=gripper_cumulative_times_lst[-2],\n",
    "    color=\"black\", linestyle=(0, (1, 10)), label=\"t_release\"\n",
    ");\n",
    "plt.legend(bbox_to_anchor=(1, 1), loc='upper left', ncol=1);"
   ]
  },
  {
   "cell_type": "markdown",
   "metadata": {},
   "source": [
    "# Run simulation"
   ]
  },
  {
   "cell_type": "code",
   "execution_count": 19,
   "metadata": {},
   "outputs": [
    {
     "name": "stdout",
     "output_type": "stream",
     "text": [
      "Connecting to meshcat-server at zmq_url=tcp://127.0.0.1:6000...\n",
      "You can open the visualizer by visiting the following URL:\n",
      "http://127.0.0.1:7000/static/\n",
      "Connected to meshcat-server.\n",
      "Throw motion should happen from 6.5 seconds to 6.637328478838721 seconds\n",
      "Running for 8.637328478838722 seconds\n",
      "ROBOT BECAME STATIONARY\n",
      "ROBOT BECAME MOVING\n",
      "ROBOT BECAME STATIONARY\n",
      "ROBOT BECAME MOVING\n",
      "ROBOT BECAME STATIONARY\n",
      "ROBOT BECAME MOVING\n",
      "ROBOT BECAME STATIONARY\n",
      "ROBOT BECAME MOVING\n",
      "v2d=(2.21, 9.22) launch_angles=(76.52, 75.17)\n",
      "v2d=(2.05, 9.31) launch_angles=(77.59, 75.17)\n",
      "v2d=(1.89, 9.40) launch_angles=(78.66, 75.17)\n",
      "v2d=(1.72, 9.49) launch_angles=(79.74, 75.17)\n",
      "v2d=(1.55, 9.58) launch_angles=(80.81, 75.17)\n",
      "v2d=(1.38, 9.66) launch_angles=(81.89, 75.17)\n",
      "v2d=(1.20, 9.74) launch_angles=(82.97, 75.17)\n",
      "RELEASING!\n",
      "ROBOT BECAME STATIONARY\n",
      "ROBOT BECAME MOVING\n",
      "ROBOT BECAME STATIONARY\n"
     ]
    }
   ],
   "source": [
    "get_gripper_controller_1 = lambda station_plant: GripperControllerUsingIiwaState(\n",
    "    plant=station_plant,\n",
    "    T_world_objectPickup=T_world_gripperObject,\n",
    "    T_world_prethrow=T_world_prethrowPose,\n",
    "    T_world_targetRelease=T_world_releasePose,\n",
    "    dbg_state_prints=False,\n",
    ")\n",
    "\n",
    "# doesn't release for the (-6, 6, -1)\n",
    "get_gripper_controller_2 = lambda station_plant: GripperControllerUsingIiwaStateV2(\n",
    "    plant=station_plant,\n",
    "    gripper_to_object_dist=GRIPPER_TO_OBJECT_COM_DIST,\n",
    "    T_world_objectPickup=T_world_gripperObject,\n",
    "    T_world_prethrow=T_world_prethrowPose,\n",
    "    p_world_target=T_world_target.translation(),\n",
    "    planned_launch_angle=launch_angle,\n",
    "    launch_angle_thresh=0.03,\n",
    "    height_thresh=5, # tunable parameter\n",
    "    dbg_state_prints=True\n",
    ")\n",
    "\n",
    "# doesn't release for the (-6, 6, -1)\n",
    "get_gripper_controller_3 = lambda station_plant: GripperControllerUsingIiwaStateV3(\n",
    "    plant=station_plant,\n",
    "    gripper_to_object_dist=GRIPPER_TO_OBJECT_COM_DIST,\n",
    "    T_world_objectPickup=T_world_gripperObject,\n",
    "    T_world_prethrow=T_world_prethrowPose,\n",
    "    planned_launch_angle=launch_angle,\n",
    "    launch_angle_thresh=0.12,\n",
    "    dbg_state_prints=True\n",
    ")\n",
    "\n",
    "# do the thing\n",
    "simulator, station_plant, meshcat, loggers = BuildAndSimulateTrajectory(\n",
    "    q_traj=q_traj,\n",
    "    g_traj=g_traj,\n",
    "    get_gripper_controller=get_gripper_controller_3,\n",
    "    T_world_objectInitial=T_world_objectInitial, # where to init the object in the world\n",
    "    T_world_targetBin=T_world_target, # where the ball should hit - aka where the bin will catch it\n",
    "    zmq_url=zmq_url,\n",
    "    time_step=1e-3, # target (-6, 6, -1). 1e-3 => overshoot barely, 1e-4 => undershoot barely, look around 7.92-7.94 s in sim\n",
    "    include_target_bin=True\n",
    ")\n",
    "\n",
    "visualize_transform(\n",
    "    meshcat,\n",
    "    \"TARGET\",\n",
    "    RigidTransform(RotationMatrix.MakeZRotation(0), P_WORLD_TARGET),\n",
    "    prefix='',\n",
    "    length=0.3,\n",
    "    radius=0.02\n",
    ")\n",
    "\n",
    "fly_time = 2\n",
    "meshcat.start_recording()\n",
    "print(f\"Throw motion should happen from 6.5 seconds to {6.5 + throw_motion_time} seconds\")\n",
    "print(f\"Running for {q_traj.end_time() + fly_time} seconds\")\n",
    "simulator.AdvanceTo(q_traj.end_time() + fly_time)\n",
    "meshcat.stop_recording()\n",
    "meshcat.publish_recording()"
   ]
  },
  {
   "cell_type": "markdown",
   "metadata": {},
   "source": [
    "### Simulation visualization (+ comparison with plan)"
   ]
  },
  {
   "cell_type": "code",
   "execution_count": 20,
   "metadata": {},
   "outputs": [
    {
     "name": "stdout",
     "output_type": "stream",
     "text": [
      "Approx release time: 6.625\n"
     ]
    },
    {
     "data": {
      "image/png": "[encoded data removed]",
      "text/plain": [
       "<Figure size 720x864 with 1 Axes>"
      ]
     },
     "metadata": {
      "needs_background": "light"
     },
     "output_type": "display_data"
    }
   ],
   "source": [
    "plt.figure(figsize=(10, 12))\n",
    "\n",
    "all_log_times = loggers[\"state\"].sample_times()\n",
    "chosen_idxs = (6 < all_log_times) & (all_log_times < 7)\n",
    "\n",
    "log_times = loggers[\"state\"].sample_times()[chosen_idxs]\n",
    "log_states = loggers[\"state\"].data()[:, chosen_idxs]\n",
    "\n",
    "for idx, r in enumerate(log_states[[10, 12]]):\n",
    "    plt.plot(log_times, r, label=f\"sim_joint_{2*idx+4}\")\n",
    "for idx, r in enumerate(log_states[[14, 15]]):\n",
    "    plt.plot(log_times, 10 *r, label=f\"sim_gripper_{idx}\")\n",
    "    \n",
    "q_plan = np.hstack([q_traj.value(t) for t in log_times])\n",
    "g_plan = np.hstack([g_traj.value(t) for t in log_times])\n",
    "for idx, r in enumerate(q_plan[[3, 5]]):\n",
    "    plt.plot(log_times, r, label=f\"plan_joint_{idx + 4}\")\n",
    "for idx, r in enumerate(g_plan):\n",
    "    plt.plot(log_times, r, label=f\"plan_gripper_{idx}\")\n",
    "\n",
    "for idx in [4, 6]:\n",
    "    plt.axhline(\n",
    "        y=release_ja[idx-1],\n",
    "        color=\"black\", linestyle=(0, (1, 2)), label=f\"plan_joint_idx\"\n",
    "    );\n",
    "\n",
    "approx_release_idx = np.where(log_states[15] > log_states[15].min() + 1e-3)[0][0]\n",
    "approx_release_time = log_times[approx_release_idx]\n",
    "print(f\"Approx release time: {approx_release_time}\")\n",
    "plt.axvline(\n",
    "    x=approx_release_time,\n",
    "    color=\"black\", linestyle=(0, (1, 2)), label=\"\"\n",
    ");\n",
    "\n",
    "plt.legend(bbox_to_anchor=(1, 1), loc='upper left', ncol=1);"
   ]
  },
  {
   "cell_type": "code",
   "execution_count": 21,
   "metadata": {},
   "outputs": [
    {
     "data": {
      "image/png": "[encoded data removed]",
      "text/plain": [
       "<Figure size 432x288 with 1 Axes>"
      ]
     },
     "metadata": {
      "needs_background": "light"
     },
     "output_type": "display_data"
    }
   ],
   "source": [
    "plt.plot(log_states[10], log_states[12]);\n",
    "plt.axvline(\n",
    "    x=release_ja[3],\n",
    "    color=\"black\", linestyle=(0, (1, 2))\n",
    ");\n",
    "plt.axhline(\n",
    "    y=release_ja[5],\n",
    "    color=\"black\", linestyle=(0, (1, 2))\n",
    ");"
   ]
  },
  {
   "cell_type": "code",
   "execution_count": 22,
   "metadata": {},
   "outputs": [
    {
     "data": {
      "image/png": "[encoded data removed]",
      "text/plain": [
       "<Figure size 864x288 with 2 Axes>"
      ]
     },
     "metadata": {
      "needs_background": "light"
     },
     "output_type": "display_data"
    }
   ],
   "source": [
    "plt.figure(figsize=(12, 4))\n",
    "\n",
    "all_log_times = loggers[\"state\"].sample_times()\n",
    "chosen_idxs = (6.4 < all_log_times) & (all_log_times < 6.8)\n",
    "\n",
    "chosen_times = loggers[\"state\"].sample_times()[chosen_idxs]\n",
    "chosen_states = loggers[\"state\"].data()[:, chosen_idxs]\n",
    "chosen_v_est = loggers[\"v_est\"].data()[:, chosen_idxs]\n",
    "\n",
    "plt.subplot(1, 2, 1)\n",
    "for idx, r in enumerate(chosen_states[[25, 27]]):\n",
    "    plt.plot(chosen_times, r, label=f\"state_joint_vel_{2*idx+4}\")\n",
    "\n",
    "for idx, r in enumerate(chosen_v_est[[3, 5]]):\n",
    "    plt.plot(\n",
    "        chosen_times, r, label=f\"est_joint_{2*idx+4}\",\n",
    "        linestyle=(0, (2, 2)), color=\"black\"\n",
    "    )\n",
    "plt.legend(bbox_to_anchor=(0, 1), loc='upper right', ncol=1);\n",
    "\n",
    "plt.subplot(1, 2, 2)\n",
    "for idx, (r1, r2) in enumerate(\n",
    "    zip(chosen_states[[25, 27]], chosen_v_est[[3, 5]])\n",
    "):\n",
    "    plt.plot(chosen_times, r1 - r2, label=f\"diff_joint_vel_{2*idx+4}\")"
   ]
  },
  {
   "cell_type": "code",
   "execution_count": 23,
   "metadata": {},
   "outputs": [
    {
     "data": {
      "text/plain": [
       "array([ 0.28 ,  0.648, -0.266,  0.682, -3.057,  3.056,  2.054])"
      ]
     },
     "execution_count": 23,
     "metadata": {},
     "output_type": "execute_result"
    }
   ],
   "source": [
    "context = simulator.get_context()\n",
    "station_plant.GetPositions(\n",
    "    station_plant.GetMyContextFromRoot(context),\n",
    "    station_plant.GetModelInstanceByName(\"sphere\")\n",
    ")"
   ]
  }
 ],
 "metadata": {
  "kernelspec": {
   "display_name": "Python 3",
   "language": "python",
   "name": "python3"
  },
  "language_info": {
   "codemirror_mode": {
    "name": "ipython",
    "version": 3
   },
   "file_extension": ".py",
   "mimetype": "text/x-python",
   "name": "python",
   "nbconvert_exporter": "python",
   "pygments_lexer": "ipython3",
   "version": "3.6.9"
  }
 },
 "nbformat": 4,
 "nbformat_minor": 4
}
