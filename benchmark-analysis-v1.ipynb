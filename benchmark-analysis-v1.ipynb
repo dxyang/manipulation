{
 "cells": [
  {
   "cell_type": "code",
   "execution_count": 1,
   "metadata": {},
   "outputs": [],
   "source": [
    "import copy\n",
    "import pickle\n",
    "\n",
    "import matplotlib.pyplot as plt\n",
    "import numpy as np\n",
    "import pandas as pd\n",
    "import tqdm\n",
    "\n",
    "import sklearn\n",
    "import sklearn.model_selection\n",
    "import sklearn.linear_model\n",
    "\n",
    "import statsmodels.formula.api as smf"
   ]
  },
  {
   "cell_type": "markdown",
   "metadata": {},
   "source": [
    "# Load data"
   ]
  },
  {
   "cell_type": "code",
   "execution_count": 2,
   "metadata": {},
   "outputs": [
    {
     "name": "stdout",
     "output_type": "stream",
     "text": [
      "700\n"
     ]
    },
    {
     "data": {
      "text/html": [
       "<div>\n",
       "<style scoped>\n",
       "    .dataframe tbody tr th:only-of-type {\n",
       "        vertical-align: middle;\n",
       "    }\n",
       "\n",
       "    .dataframe tbody tr th {\n",
       "        vertical-align: top;\n",
       "    }\n",
       "\n",
       "    .dataframe thead th {\n",
       "        text-align: right;\n",
       "    }\n",
       "</style>\n",
       "<table border=\"1\" class=\"dataframe\">\n",
       "  <thead>\n",
       "    <tr style=\"text-align: right;\">\n",
       "      <th></th>\n",
       "      <th>X</th>\n",
       "      <th>Y</th>\n",
       "      <th>Z</th>\n",
       "      <th>LAUNCH_ANGLE_THRESH</th>\n",
       "      <th>MAX_APPROACH_ANGLE</th>\n",
       "      <th>OBJECT_TO_TOSS</th>\n",
       "      <th>GRIPPER_TO_OBJECT_COM_DIST</th>\n",
       "      <th>land_pos_error</th>\n",
       "      <th>land_angle_error</th>\n",
       "      <th>aim_angle_error</th>\n",
       "      <th>...</th>\n",
       "      <th>land_y</th>\n",
       "      <th>land_z</th>\n",
       "      <th>sim_land_angle</th>\n",
       "      <th>plan_land_angle</th>\n",
       "      <th>plan_launch_angle</th>\n",
       "      <th>release_frac</th>\n",
       "      <th>throw_motion_time</th>\n",
       "      <th>status</th>\n",
       "      <th>radius2</th>\n",
       "      <th>radius</th>\n",
       "    </tr>\n",
       "  </thead>\n",
       "  <tbody>\n",
       "    <tr>\n",
       "      <th>0</th>\n",
       "      <td>-1</td>\n",
       "      <td>1</td>\n",
       "      <td>-3</td>\n",
       "      <td>-0.05236</td>\n",
       "      <td>-0.785398</td>\n",
       "      <td>ball</td>\n",
       "      <td>0.11</td>\n",
       "      <td>0.128040</td>\n",
       "      <td>0.015415</td>\n",
       "      <td>0.000018</td>\n",
       "      <td>...</td>\n",
       "      <td>1.090497</td>\n",
       "      <td>-2.997223</td>\n",
       "      <td>-1.428543</td>\n",
       "      <td>-1.443958</td>\n",
       "      <td>0.672715</td>\n",
       "      <td>0.255723</td>\n",
       "      <td>0.828978</td>\n",
       "      <td>OK</td>\n",
       "      <td>2</td>\n",
       "      <td>1.414214</td>\n",
       "    </tr>\n",
       "    <tr>\n",
       "      <th>1</th>\n",
       "      <td>-1</td>\n",
       "      <td>2</td>\n",
       "      <td>-3</td>\n",
       "      <td>-0.05236</td>\n",
       "      <td>-0.785398</td>\n",
       "      <td>ball</td>\n",
       "      <td>0.11</td>\n",
       "      <td>0.353755</td>\n",
       "      <td>0.029200</td>\n",
       "      <td>0.000025</td>\n",
       "      <td>...</td>\n",
       "      <td>2.316343</td>\n",
       "      <td>-2.994677</td>\n",
       "      <td>-1.380337</td>\n",
       "      <td>-1.409537</td>\n",
       "      <td>1.078445</td>\n",
       "      <td>0.417478</td>\n",
       "      <td>0.405088</td>\n",
       "      <td>OK</td>\n",
       "      <td>5</td>\n",
       "      <td>2.236068</td>\n",
       "    </tr>\n",
       "    <tr>\n",
       "      <th>2</th>\n",
       "      <td>-1</td>\n",
       "      <td>3</td>\n",
       "      <td>-3</td>\n",
       "      <td>-0.05236</td>\n",
       "      <td>-0.785398</td>\n",
       "      <td>ball</td>\n",
       "      <td>0.11</td>\n",
       "      <td>0.074548</td>\n",
       "      <td>0.012615</td>\n",
       "      <td>0.000013</td>\n",
       "      <td>...</td>\n",
       "      <td>3.070485</td>\n",
       "      <td>-2.994070</td>\n",
       "      <td>-1.264886</td>\n",
       "      <td>-1.277501</td>\n",
       "      <td>0.663398</td>\n",
       "      <td>0.252048</td>\n",
       "      <td>0.343739</td>\n",
       "      <td>OK</td>\n",
       "      <td>10</td>\n",
       "      <td>3.162278</td>\n",
       "    </tr>\n",
       "    <tr>\n",
       "      <th>3</th>\n",
       "      <td>-1</td>\n",
       "      <td>4</td>\n",
       "      <td>-3</td>\n",
       "      <td>-0.05236</td>\n",
       "      <td>-0.785398</td>\n",
       "      <td>ball</td>\n",
       "      <td>0.11</td>\n",
       "      <td>-0.080066</td>\n",
       "      <td>0.003051</td>\n",
       "      <td>0.000011</td>\n",
       "      <td>...</td>\n",
       "      <td>3.922380</td>\n",
       "      <td>-2.996696</td>\n",
       "      <td>-1.213481</td>\n",
       "      <td>-1.216532</td>\n",
       "      <td>0.688964</td>\n",
       "      <td>0.262136</td>\n",
       "      <td>0.271021</td>\n",
       "      <td>OK</td>\n",
       "      <td>17</td>\n",
       "      <td>4.123106</td>\n",
       "    </tr>\n",
       "    <tr>\n",
       "      <th>4</th>\n",
       "      <td>-1</td>\n",
       "      <td>5</td>\n",
       "      <td>-3</td>\n",
       "      <td>-0.05236</td>\n",
       "      <td>-0.785398</td>\n",
       "      <td>ball</td>\n",
       "      <td>0.11</td>\n",
       "      <td>-0.579892</td>\n",
       "      <td>-0.024426</td>\n",
       "      <td>0.000009</td>\n",
       "      <td>...</td>\n",
       "      <td>4.431363</td>\n",
       "      <td>-2.998347</td>\n",
       "      <td>-1.164892</td>\n",
       "      <td>-1.140466</td>\n",
       "      <td>0.616329</td>\n",
       "      <td>0.233512</td>\n",
       "      <td>0.225539</td>\n",
       "      <td>OK</td>\n",
       "      <td>26</td>\n",
       "      <td>5.099020</td>\n",
       "    </tr>\n",
       "  </tbody>\n",
       "</table>\n",
       "<p>5 rows × 23 columns</p>\n",
       "</div>"
      ],
      "text/plain": [
       "   X  Y  Z  LAUNCH_ANGLE_THRESH  MAX_APPROACH_ANGLE OBJECT_TO_TOSS  \\\n",
       "0 -1  1 -3             -0.05236           -0.785398           ball   \n",
       "1 -1  2 -3             -0.05236           -0.785398           ball   \n",
       "2 -1  3 -3             -0.05236           -0.785398           ball   \n",
       "3 -1  4 -3             -0.05236           -0.785398           ball   \n",
       "4 -1  5 -3             -0.05236           -0.785398           ball   \n",
       "\n",
       "   GRIPPER_TO_OBJECT_COM_DIST  land_pos_error  land_angle_error  \\\n",
       "0                        0.11        0.128040          0.015415   \n",
       "1                        0.11        0.353755          0.029200   \n",
       "2                        0.11        0.074548          0.012615   \n",
       "3                        0.11       -0.080066          0.003051   \n",
       "4                        0.11       -0.579892         -0.024426   \n",
       "\n",
       "   aim_angle_error  ...    land_y    land_z  sim_land_angle  plan_land_angle  \\\n",
       "0         0.000018  ...  1.090497 -2.997223       -1.428543        -1.443958   \n",
       "1         0.000025  ...  2.316343 -2.994677       -1.380337        -1.409537   \n",
       "2         0.000013  ...  3.070485 -2.994070       -1.264886        -1.277501   \n",
       "3         0.000011  ...  3.922380 -2.996696       -1.213481        -1.216532   \n",
       "4         0.000009  ...  4.431363 -2.998347       -1.164892        -1.140466   \n",
       "\n",
       "   plan_launch_angle  release_frac  throw_motion_time  status  radius2  \\\n",
       "0           0.672715      0.255723           0.828978      OK        2   \n",
       "1           1.078445      0.417478           0.405088      OK        5   \n",
       "2           0.663398      0.252048           0.343739      OK       10   \n",
       "3           0.688964      0.262136           0.271021      OK       17   \n",
       "4           0.616329      0.233512           0.225539      OK       26   \n",
       "\n",
       "     radius  \n",
       "0  1.414214  \n",
       "1  2.236068  \n",
       "2  3.162278  \n",
       "3  4.123106  \n",
       "4  5.099020  \n",
       "\n",
       "[5 rows x 23 columns]"
      ]
     },
     "execution_count": 2,
     "metadata": {},
     "output_type": "execute_result"
    }
   ],
   "source": [
    "with open('benchmark-700-v1.pickle', 'rb') as f:\n",
    "    results = pickle.load(f)\n",
    "    \n",
    "df = pd.DataFrame(results)\n",
    "df[\"radius2\"] = (df.X ** 2 + df.Y ** 2)\n",
    "df[\"radius\"] = np.sqrt(df[\"radius2\"])\n",
    "#df[\"LAUNCH_ANGLE_THRESH_DEG\"] = np.rint(df[\"LAUNCH_ANGLE_THRESH\"] / np.pi * 180.0).astype(int)\n",
    "\n",
    "print(len(df))\n",
    "df.head()"
   ]
  },
  {
   "cell_type": "code",
   "execution_count": 3,
   "metadata": {},
   "outputs": [
    {
     "name": "stdout",
     "output_type": "stream",
     "text": [
      "['OK']\n"
     ]
    },
    {
     "data": {
      "text/html": [
       "<div>\n",
       "<style scoped>\n",
       "    .dataframe tbody tr th:only-of-type {\n",
       "        vertical-align: middle;\n",
       "    }\n",
       "\n",
       "    .dataframe tbody tr th {\n",
       "        vertical-align: top;\n",
       "    }\n",
       "\n",
       "    .dataframe thead th {\n",
       "        text-align: right;\n",
       "    }\n",
       "</style>\n",
       "<table border=\"1\" class=\"dataframe\">\n",
       "  <thead>\n",
       "    <tr style=\"text-align: right;\">\n",
       "      <th></th>\n",
       "      <th>X</th>\n",
       "      <th>Y</th>\n",
       "      <th>Z</th>\n",
       "      <th>LAUNCH_ANGLE_THRESH</th>\n",
       "      <th>MAX_APPROACH_ANGLE</th>\n",
       "      <th>OBJECT_TO_TOSS</th>\n",
       "      <th>GRIPPER_TO_OBJECT_COM_DIST</th>\n",
       "      <th>land_pos_error</th>\n",
       "      <th>land_angle_error</th>\n",
       "      <th>aim_angle_error</th>\n",
       "      <th>...</th>\n",
       "      <th>land_y</th>\n",
       "      <th>land_z</th>\n",
       "      <th>sim_land_angle</th>\n",
       "      <th>plan_land_angle</th>\n",
       "      <th>plan_launch_angle</th>\n",
       "      <th>release_frac</th>\n",
       "      <th>throw_motion_time</th>\n",
       "      <th>status</th>\n",
       "      <th>radius2</th>\n",
       "      <th>radius</th>\n",
       "    </tr>\n",
       "  </thead>\n",
       "  <tbody>\n",
       "    <tr>\n",
       "      <th>138</th>\n",
       "      <td>-3</td>\n",
       "      <td>4</td>\n",
       "      <td>2</td>\n",
       "      <td>-0.05236</td>\n",
       "      <td>-0.785398</td>\n",
       "      <td>ball</td>\n",
       "      <td>0.11</td>\n",
       "      <td>-0.366966</td>\n",
       "      <td>NaN</td>\n",
       "      <td>0.000010</td>\n",
       "      <td>...</td>\n",
       "      <td>3.706399</td>\n",
       "      <td>2.000389</td>\n",
       "      <td>NaN</td>\n",
       "      <td>-0.823616</td>\n",
       "      <td>1.042248</td>\n",
       "      <td>0.402925</td>\n",
       "      <td>0.155616</td>\n",
       "      <td>OK</td>\n",
       "      <td>25</td>\n",
       "      <td>5.000000</td>\n",
       "    </tr>\n",
       "    <tr>\n",
       "      <th>334</th>\n",
       "      <td>-2</td>\n",
       "      <td>5</td>\n",
       "      <td>3</td>\n",
       "      <td>0.00000</td>\n",
       "      <td>-0.785398</td>\n",
       "      <td>ball</td>\n",
       "      <td>0.11</td>\n",
       "      <td>-0.291188</td>\n",
       "      <td>NaN</td>\n",
       "      <td>0.000014</td>\n",
       "      <td>...</td>\n",
       "      <td>4.729612</td>\n",
       "      <td>3.000477</td>\n",
       "      <td>NaN</td>\n",
       "      <td>-0.873882</td>\n",
       "      <td>1.140196</td>\n",
       "      <td>0.442352</td>\n",
       "      <td>0.138913</td>\n",
       "      <td>OK</td>\n",
       "      <td>29</td>\n",
       "      <td>5.385165</td>\n",
       "    </tr>\n",
       "    <tr>\n",
       "      <th>438</th>\n",
       "      <td>-3</td>\n",
       "      <td>4</td>\n",
       "      <td>0</td>\n",
       "      <td>0.05236</td>\n",
       "      <td>-0.785398</td>\n",
       "      <td>ball</td>\n",
       "      <td>0.11</td>\n",
       "      <td>-0.297612</td>\n",
       "      <td>NaN</td>\n",
       "      <td>0.000007</td>\n",
       "      <td>...</td>\n",
       "      <td>3.761912</td>\n",
       "      <td>0.003950</td>\n",
       "      <td>NaN</td>\n",
       "      <td>-0.860230</td>\n",
       "      <td>0.758855</td>\n",
       "      <td>0.289792</td>\n",
       "      <td>0.180728</td>\n",
       "      <td>OK</td>\n",
       "      <td>25</td>\n",
       "      <td>5.000000</td>\n",
       "    </tr>\n",
       "  </tbody>\n",
       "</table>\n",
       "<p>3 rows × 23 columns</p>\n",
       "</div>"
      ],
      "text/plain": [
       "     X  Y  Z  LAUNCH_ANGLE_THRESH  MAX_APPROACH_ANGLE OBJECT_TO_TOSS  \\\n",
       "138 -3  4  2             -0.05236           -0.785398           ball   \n",
       "334 -2  5  3              0.00000           -0.785398           ball   \n",
       "438 -3  4  0              0.05236           -0.785398           ball   \n",
       "\n",
       "     GRIPPER_TO_OBJECT_COM_DIST  land_pos_error  land_angle_error  \\\n",
       "138                        0.11       -0.366966               NaN   \n",
       "334                        0.11       -0.291188               NaN   \n",
       "438                        0.11       -0.297612               NaN   \n",
       "\n",
       "     aim_angle_error  ...    land_y    land_z  sim_land_angle  \\\n",
       "138         0.000010  ...  3.706399  2.000389             NaN   \n",
       "334         0.000014  ...  4.729612  3.000477             NaN   \n",
       "438         0.000007  ...  3.761912  0.003950             NaN   \n",
       "\n",
       "     plan_land_angle  plan_launch_angle  release_frac  throw_motion_time  \\\n",
       "138        -0.823616           1.042248      0.402925           0.155616   \n",
       "334        -0.873882           1.140196      0.442352           0.138913   \n",
       "438        -0.860230           0.758855      0.289792           0.180728   \n",
       "\n",
       "     status  radius2    radius  \n",
       "138      OK       25  5.000000  \n",
       "334      OK       29  5.385165  \n",
       "438      OK       25  5.000000  \n",
       "\n",
       "[3 rows x 23 columns]"
      ]
     },
     "execution_count": 3,
     "metadata": {},
     "output_type": "execute_result"
    }
   ],
   "source": [
    "print(df.status.unique())\n",
    "df[df.isna().any(axis=1)]"
   ]
  },
  {
   "cell_type": "code",
   "execution_count": 4,
   "metadata": {},
   "outputs": [
    {
     "data": {
      "text/plain": [
       "False"
      ]
     },
     "execution_count": 4,
     "metadata": {},
     "output_type": "execute_result"
    }
   ],
   "source": [
    "df = df.dropna()\n",
    "df.isnull().values.any()"
   ]
  },
  {
   "cell_type": "code",
   "execution_count": 5,
   "metadata": {},
   "outputs": [
    {
     "data": {
      "text/plain": [
       "array([-0.05235988,  0.        ,  0.05235988,  0.10471976])"
      ]
     },
     "execution_count": 5,
     "metadata": {},
     "output_type": "execute_result"
    }
   ],
   "source": [
    "df.LAUNCH_ANGLE_THRESH.unique()"
   ]
  },
  {
   "cell_type": "code",
   "execution_count": 6,
   "metadata": {},
   "outputs": [
    {
     "data": {
      "text/plain": [
       "Index(['X', 'Y', 'Z', 'LAUNCH_ANGLE_THRESH', 'MAX_APPROACH_ANGLE',\n",
       "       'OBJECT_TO_TOSS', 'GRIPPER_TO_OBJECT_COM_DIST', 'land_pos_error',\n",
       "       'land_angle_error', 'aim_angle_error', 'time_to_arrival', 'land_time',\n",
       "       'land_x', 'land_y', 'land_z', 'sim_land_angle', 'plan_land_angle',\n",
       "       'plan_launch_angle', 'release_frac', 'throw_motion_time', 'status',\n",
       "       'radius2', 'radius'],\n",
       "      dtype='object')"
      ]
     },
     "execution_count": 6,
     "metadata": {},
     "output_type": "execute_result"
    }
   ],
   "source": [
    "df.columns"
   ]
  },
  {
   "cell_type": "markdown",
   "metadata": {},
   "source": [
    "### Check if considering only radius is enough "
   ]
  },
  {
   "cell_type": "code",
   "execution_count": 7,
   "metadata": {},
   "outputs": [
    {
     "data": {
      "image/png": "[encoded data removed]",
      "text/plain": [
       "<Figure size 1296x288 with 3 Axes>"
      ]
     },
     "metadata": {
      "needs_background": "light"
     },
     "output_type": "display_data"
    }
   ],
   "source": [
    "plt.figure(figsize=(18,4))\n",
    "\n",
    "gb = df.groupby([\"LAUNCH_ANGLE_THRESH\", \"Z\", \"radius2\"]).agg(np.ptp)\n",
    "\n",
    "for idx, name in enumerate([\n",
    "    \"land_pos_error\",\n",
    "    \"land_angle_error\",\n",
    "    \"aim_angle_error\",\n",
    "]):\n",
    "    plt.subplot(1, 3, idx + 1)\n",
    "    gb[name].hist(bins=30);\n",
    "    plt.title(f\"{name} rngs; mx={gb[name].max():.3f}\")"
   ]
  },
  {
   "cell_type": "markdown",
   "metadata": {},
   "source": [
    "### Distribution of errors launch_thresh"
   ]
  },
  {
   "cell_type": "code",
   "execution_count": 8,
   "metadata": {},
   "outputs": [
    {
     "data": {
      "image/png": "[encoded data removed]",
      "text/plain": [
       "<Figure size 1296x504 with 8 Axes>"
      ]
     },
     "metadata": {
      "needs_background": "light"
     },
     "output_type": "display_data"
    }
   ],
   "source": [
    "plt.figure(figsize=(18,7))\n",
    "\n",
    "ERROR_MEASURES = [\n",
    "    \"land_pos_error\",\n",
    "    \"land_angle_error\",\n",
    "]\n",
    "THRESHES = df.LAUNCH_ANGLE_THRESH.unique()\n",
    "\n",
    "idx = 1\n",
    "for error_measure in ERROR_MEASURES:\n",
    "    for thresh in THRESHES:\n",
    "        plt.subplot(len(ERROR_MEASURES), len(THRESHES), idx)\n",
    "        df[df.LAUNCH_ANGLE_THRESH == thresh][error_measure].hist(bins=20)\n",
    "        plt.title(f\"{error_measure}; thresh (deg) = {thresh / np.pi * 180.0}\")\n",
    "        \n",
    "        idx += 1"
   ]
  },
  {
   "cell_type": "markdown",
   "metadata": {},
   "source": [
    "# Linear model"
   ]
  },
  {
   "cell_type": "markdown",
   "metadata": {},
   "source": [
    "### Some visualizations of the features"
   ]
  },
  {
   "cell_type": "code",
   "execution_count": 9,
   "metadata": {},
   "outputs": [
    {
     "data": {
      "image/png": "[encoded data removed]",
      "text/plain": [
       "<Figure size 1296x288 with 3 Axes>"
      ]
     },
     "metadata": {
      "needs_background": "light"
     },
     "output_type": "display_data"
    }
   ],
   "source": [
    "plt.figure(figsize=(18,4))\n",
    "\n",
    "plt.subplot(1, 3, 1)\n",
    "plt.scatter(df[\"radius\"], df.land_pos_error)\n",
    "\n",
    "plt.subplot(1, 3, 2)\n",
    "plt.scatter(df.Z, df.land_pos_error);\n",
    "\n",
    "plt.subplot(1, 3, 3)\n",
    "plt.scatter(df.LAUNCH_ANGLE_THRESH, df.land_pos_error);"
   ]
  },
  {
   "cell_type": "code",
   "execution_count": 10,
   "metadata": {},
   "outputs": [
    {
     "data": {
      "text/html": [
       "<table class=\"simpletable\">\n",
       "<caption>OLS Regression Results</caption>\n",
       "<tr>\n",
       "  <th>Dep. Variable:</th>     <td>land_pos_error</td>  <th>  R-squared:         </th> <td>   0.467</td>\n",
       "</tr>\n",
       "<tr>\n",
       "  <th>Model:</th>                   <td>OLS</td>       <th>  Adj. R-squared:    </th> <td>   0.464</td>\n",
       "</tr>\n",
       "<tr>\n",
       "  <th>Method:</th>             <td>Least Squares</td>  <th>  F-statistic:       </th> <td>   121.3</td>\n",
       "</tr>\n",
       "<tr>\n",
       "  <th>Date:</th>             <td>Fri, 11 Dec 2020</td> <th>  Prob (F-statistic):</th> <td>4.65e-92</td>\n",
       "</tr>\n",
       "<tr>\n",
       "  <th>Time:</th>                 <td>07:23:50</td>     <th>  Log-Likelihood:    </th> <td> -311.11</td>\n",
       "</tr>\n",
       "<tr>\n",
       "  <th>No. Observations:</th>      <td>   697</td>      <th>  AIC:               </th> <td>   634.2</td>\n",
       "</tr>\n",
       "<tr>\n",
       "  <th>Df Residuals:</th>          <td>   691</td>      <th>  BIC:               </th> <td>   661.5</td>\n",
       "</tr>\n",
       "<tr>\n",
       "  <th>Df Model:</th>              <td>     5</td>      <th>                     </th>     <td> </td>   \n",
       "</tr>\n",
       "<tr>\n",
       "  <th>Covariance Type:</th>      <td>nonrobust</td>    <th>                     </th>     <td> </td>   \n",
       "</tr>\n",
       "</table>\n",
       "<table class=\"simpletable\">\n",
       "<tr>\n",
       "           <td></td>              <th>coef</th>     <th>std err</th>      <th>t</th>      <th>P>|t|</th>  <th>[0.025</th>    <th>0.975]</th>  \n",
       "</tr>\n",
       "<tr>\n",
       "  <th>Intercept</th>           <td>   -0.2961</td> <td>    0.123</td> <td>   -2.404</td> <td> 0.016</td> <td>   -0.538</td> <td>   -0.054</td>\n",
       "</tr>\n",
       "<tr>\n",
       "  <th>radius2</th>             <td>   -0.0258</td> <td>    0.002</td> <td>  -15.866</td> <td> 0.000</td> <td>   -0.029</td> <td>   -0.023</td>\n",
       "</tr>\n",
       "<tr>\n",
       "  <th>Z</th>                   <td>   -0.0457</td> <td>    0.012</td> <td>   -3.915</td> <td> 0.000</td> <td>   -0.069</td> <td>   -0.023</td>\n",
       "</tr>\n",
       "<tr>\n",
       "  <th>release_frac</th>        <td>    1.6367</td> <td>    0.224</td> <td>    7.293</td> <td> 0.000</td> <td>    1.196</td> <td>    2.077</td>\n",
       "</tr>\n",
       "<tr>\n",
       "  <th>throw_motion_time</th>   <td>    0.2395</td> <td>    0.242</td> <td>    0.989</td> <td> 0.323</td> <td>   -0.236</td> <td>    0.715</td>\n",
       "</tr>\n",
       "<tr>\n",
       "  <th>LAUNCH_ANGLE_THRESH</th> <td>    0.1964</td> <td>    0.246</td> <td>    0.800</td> <td> 0.424</td> <td>   -0.286</td> <td>    0.679</td>\n",
       "</tr>\n",
       "</table>\n",
       "<table class=\"simpletable\">\n",
       "<tr>\n",
       "  <th>Omnibus:</th>       <td>778.338</td> <th>  Durbin-Watson:     </th> <td>   1.844</td> \n",
       "</tr>\n",
       "<tr>\n",
       "  <th>Prob(Omnibus):</th> <td> 0.000</td>  <th>  Jarque-Bera (JB):  </th> <td>96530.080</td>\n",
       "</tr>\n",
       "<tr>\n",
       "  <th>Skew:</th>          <td>-5.065</td>  <th>  Prob(JB):          </th> <td>    0.00</td> \n",
       "</tr>\n",
       "<tr>\n",
       "  <th>Kurtosis:</th>      <td>59.756</td>  <th>  Cond. No.          </th> <td>    494.</td> \n",
       "</tr>\n",
       "</table><br/><br/>Notes:<br/>[1] Standard Errors assume that the covariance matrix of the errors is correctly specified."
      ],
      "text/plain": [
       "<class 'statsmodels.iolib.summary.Summary'>\n",
       "\"\"\"\n",
       "                            OLS Regression Results                            \n",
       "==============================================================================\n",
       "Dep. Variable:         land_pos_error   R-squared:                       0.467\n",
       "Model:                            OLS   Adj. R-squared:                  0.464\n",
       "Method:                 Least Squares   F-statistic:                     121.3\n",
       "Date:                Fri, 11 Dec 2020   Prob (F-statistic):           4.65e-92\n",
       "Time:                        07:23:50   Log-Likelihood:                -311.11\n",
       "No. Observations:                 697   AIC:                             634.2\n",
       "Df Residuals:                     691   BIC:                             661.5\n",
       "Df Model:                           5                                         \n",
       "Covariance Type:            nonrobust                                         \n",
       "=======================================================================================\n",
       "                          coef    std err          t      P>|t|      [0.025      0.975]\n",
       "---------------------------------------------------------------------------------------\n",
       "Intercept              -0.2961      0.123     -2.404      0.016      -0.538      -0.054\n",
       "radius2                -0.0258      0.002    -15.866      0.000      -0.029      -0.023\n",
       "Z                      -0.0457      0.012     -3.915      0.000      -0.069      -0.023\n",
       "release_frac            1.6367      0.224      7.293      0.000       1.196       2.077\n",
       "throw_motion_time       0.2395      0.242      0.989      0.323      -0.236       0.715\n",
       "LAUNCH_ANGLE_THRESH     0.1964      0.246      0.800      0.424      -0.286       0.679\n",
       "==============================================================================\n",
       "Omnibus:                      778.338   Durbin-Watson:                   1.844\n",
       "Prob(Omnibus):                  0.000   Jarque-Bera (JB):            96530.080\n",
       "Skew:                          -5.065   Prob(JB):                         0.00\n",
       "Kurtosis:                      59.756   Cond. No.                         494.\n",
       "==============================================================================\n",
       "\n",
       "Notes:\n",
       "[1] Standard Errors assume that the covariance matrix of the errors is correctly specified.\n",
       "\"\"\""
      ]
     },
     "execution_count": 10,
     "metadata": {},
     "output_type": "execute_result"
    }
   ],
   "source": [
    "model = smf.ols(\n",
    "    formula='land_pos_error ~ radius2 + Z + release_frac + throw_motion_time + LAUNCH_ANGLE_THRESH',\n",
    "    data=df\n",
    ").fit()\n",
    "model.summary()"
   ]
  },
  {
   "cell_type": "code",
   "execution_count": 11,
   "metadata": {},
   "outputs": [
    {
     "data": {
      "text/html": [
       "<table class=\"simpletable\">\n",
       "<caption>OLS Regression Results</caption>\n",
       "<tr>\n",
       "  <th>Dep. Variable:</th>    <td>LAUNCH_ANGLE_THRESH</td> <th>  R-squared:         </th> <td>   0.001</td>\n",
       "</tr>\n",
       "<tr>\n",
       "  <th>Model:</th>                    <td>OLS</td>         <th>  Adj. R-squared:    </th> <td>  -0.006</td>\n",
       "</tr>\n",
       "<tr>\n",
       "  <th>Method:</th>              <td>Least Squares</td>    <th>  F-statistic:       </th> <td>  0.1292</td>\n",
       "</tr>\n",
       "<tr>\n",
       "  <th>Date:</th>              <td>Fri, 11 Dec 2020</td>   <th>  Prob (F-statistic):</th>  <td> 0.986</td> \n",
       "</tr>\n",
       "<tr>\n",
       "  <th>Time:</th>                  <td>07:23:52</td>       <th>  Log-Likelihood:    </th> <td>  989.04</td>\n",
       "</tr>\n",
       "<tr>\n",
       "  <th>No. Observations:</th>       <td>   697</td>        <th>  AIC:               </th> <td>  -1966.</td>\n",
       "</tr>\n",
       "<tr>\n",
       "  <th>Df Residuals:</th>           <td>   691</td>        <th>  BIC:               </th> <td>  -1939.</td>\n",
       "</tr>\n",
       "<tr>\n",
       "  <th>Df Model:</th>               <td>     5</td>        <th>                     </th>     <td> </td>   \n",
       "</tr>\n",
       "<tr>\n",
       "  <th>Covariance Type:</th>       <td>nonrobust</td>      <th>                     </th>     <td> </td>   \n",
       "</tr>\n",
       "</table>\n",
       "<table class=\"simpletable\">\n",
       "<tr>\n",
       "          <td></td>             <th>coef</th>     <th>std err</th>      <th>t</th>      <th>P>|t|</th>  <th>[0.025</th>    <th>0.975]</th>  \n",
       "</tr>\n",
       "<tr>\n",
       "  <th>Intercept</th>         <td>    0.0274</td> <td>    0.019</td> <td>    1.434</td> <td> 0.152</td> <td>   -0.010</td> <td>    0.065</td>\n",
       "</tr>\n",
       "<tr>\n",
       "  <th>radius2</th>           <td>    0.0001</td> <td>    0.000</td> <td>    0.433</td> <td> 0.665</td> <td>   -0.000</td> <td>    0.001</td>\n",
       "</tr>\n",
       "<tr>\n",
       "  <th>Z</th>                 <td>    0.0003</td> <td>    0.002</td> <td>    0.170</td> <td> 0.865</td> <td>   -0.003</td> <td>    0.004</td>\n",
       "</tr>\n",
       "<tr>\n",
       "  <th>release_frac</th>      <td>   -0.0077</td> <td>    0.036</td> <td>   -0.213</td> <td> 0.831</td> <td>   -0.078</td> <td>    0.063</td>\n",
       "</tr>\n",
       "<tr>\n",
       "  <th>throw_motion_time</th> <td>   -0.0006</td> <td>    0.038</td> <td>   -0.016</td> <td> 0.987</td> <td>   -0.074</td> <td>    0.073</td>\n",
       "</tr>\n",
       "<tr>\n",
       "  <th>land_pos_error</th>    <td>    0.0047</td> <td>    0.006</td> <td>    0.800</td> <td> 0.424</td> <td>   -0.007</td> <td>    0.016</td>\n",
       "</tr>\n",
       "</table>\n",
       "<table class=\"simpletable\">\n",
       "<tr>\n",
       "  <th>Omnibus:</th>       <td>4234.046</td> <th>  Durbin-Watson:     </th> <td>   0.005</td>\n",
       "</tr>\n",
       "<tr>\n",
       "  <th>Prob(Omnibus):</th>  <td> 0.000</td>  <th>  Jarque-Bera (JB):  </th> <td>  53.423</td>\n",
       "</tr>\n",
       "<tr>\n",
       "  <th>Skew:</th>           <td> 0.005</td>  <th>  Prob(JB):          </th> <td>2.51e-12</td>\n",
       "</tr>\n",
       "<tr>\n",
       "  <th>Kurtosis:</th>       <td> 1.644</td>  <th>  Cond. No.          </th> <td>    501.</td>\n",
       "</tr>\n",
       "</table><br/><br/>Notes:<br/>[1] Standard Errors assume that the covariance matrix of the errors is correctly specified."
      ],
      "text/plain": [
       "<class 'statsmodels.iolib.summary.Summary'>\n",
       "\"\"\"\n",
       "                             OLS Regression Results                            \n",
       "===============================================================================\n",
       "Dep. Variable:     LAUNCH_ANGLE_THRESH   R-squared:                       0.001\n",
       "Model:                             OLS   Adj. R-squared:                 -0.006\n",
       "Method:                  Least Squares   F-statistic:                    0.1292\n",
       "Date:                 Fri, 11 Dec 2020   Prob (F-statistic):              0.986\n",
       "Time:                         07:23:52   Log-Likelihood:                 989.04\n",
       "No. Observations:                  697   AIC:                            -1966.\n",
       "Df Residuals:                      691   BIC:                            -1939.\n",
       "Df Model:                            5                                         \n",
       "Covariance Type:             nonrobust                                         \n",
       "=====================================================================================\n",
       "                        coef    std err          t      P>|t|      [0.025      0.975]\n",
       "-------------------------------------------------------------------------------------\n",
       "Intercept             0.0274      0.019      1.434      0.152      -0.010       0.065\n",
       "radius2               0.0001      0.000      0.433      0.665      -0.000       0.001\n",
       "Z                     0.0003      0.002      0.170      0.865      -0.003       0.004\n",
       "release_frac         -0.0077      0.036     -0.213      0.831      -0.078       0.063\n",
       "throw_motion_time    -0.0006      0.038     -0.016      0.987      -0.074       0.073\n",
       "land_pos_error        0.0047      0.006      0.800      0.424      -0.007       0.016\n",
       "==============================================================================\n",
       "Omnibus:                     4234.046   Durbin-Watson:                   0.005\n",
       "Prob(Omnibus):                  0.000   Jarque-Bera (JB):               53.423\n",
       "Skew:                           0.005   Prob(JB):                     2.51e-12\n",
       "Kurtosis:                       1.644   Cond. No.                         501.\n",
       "==============================================================================\n",
       "\n",
       "Notes:\n",
       "[1] Standard Errors assume that the covariance matrix of the errors is correctly specified.\n",
       "\"\"\""
      ]
     },
     "execution_count": 11,
     "metadata": {},
     "output_type": "execute_result"
    }
   ],
   "source": [
    "model = smf.ols(\n",
    "    formula='LAUNCH_ANGLE_THRESH ~ radius2 + Z + release_frac + throw_motion_time + land_pos_error',\n",
    "    data=df\n",
    ").fit()\n",
    "model.summary()"
   ]
  },
  {
   "cell_type": "code",
   "execution_count": 12,
   "metadata": {},
   "outputs": [
    {
     "data": {
      "text/plain": [
       "0.33897477703925216"
      ]
     },
     "execution_count": 12,
     "metadata": {},
     "output_type": "execute_result"
    }
   ],
   "source": [
    "X = pd.DataFrame(df[[\"radius2\", \"Z\", \"LAUNCH_ANGLE_THRESH\"]])\n",
    "y = pd.DataFrame(df[\"land_pos_error\"])\n",
    "X_train, X_test, y_train, y_test = (\n",
    "    sklearn.model_selection.train_test_split(X, y, test_size=0.2, random_state=41)\n",
    ")\n",
    "\n",
    "model = sklearn.linear_model.LinearRegression()\n",
    "model.fit(X_train, y_train)\n",
    "\n",
    "model.score(X_test, y_test)"
   ]
  }
 ],
 "metadata": {
  "kernelspec": {
   "display_name": "Python 3",
   "language": "python",
   "name": "python3"
  },
  "language_info": {
   "codemirror_mode": {
    "name": "ipython",
    "version": 3
   },
   "file_extension": ".py",
   "mimetype": "text/x-python",
   "name": "python",
   "nbconvert_exporter": "python",
   "pygments_lexer": "ipython3",
   "version": "3.6.9"
  }
 },
 "nbformat": 4,
 "nbformat_minor": 4
}
