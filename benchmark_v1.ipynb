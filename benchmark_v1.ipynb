{
 "cells": [
  {
   "cell_type": "code",
   "execution_count": 1,
   "metadata": {},
   "outputs": [],
   "source": [
    "#%load_ext autoreload\n",
    "#%autoreload 2\n",
    "\n",
    "import copy\n",
    "import pickle\n",
    "\n",
    "import matplotlib.pyplot as plt\n",
    "import numpy as np\n",
    "import tqdm\n",
    "\n",
    "from src.benchmark import run_benchmark"
   ]
  },
  {
   "cell_type": "markdown",
   "metadata": {},
   "source": [
    "### Manual run"
   ]
  },
  {
   "cell_type": "code",
   "execution_count": 2,
   "metadata": {},
   "outputs": [
    {
     "name": "stdout",
     "output_type": "stream",
     "text": [
      "http://127.0.0.1:7000/static/\n"
     ]
    }
   ],
   "source": [
    "# start a single meshcat server instance to use for remainder of this notebook.\n",
    "from meshcat.servers.zmqserver import start_zmq_server_as_subprocess\n",
    "proc, zmq_url, web_url = start_zmq_server_as_subprocess(server_args=[])\n",
    "print(web_url)"
   ]
  },
  {
   "cell_type": "code",
   "execution_count": 3,
   "metadata": {},
   "outputs": [
    {
     "name": "stdout",
     "output_type": "stream",
     "text": [
      "Connecting to meshcat-server at zmq_url=tcp://127.0.0.1:6000...\n",
      "You can open the visualizer by visiting the following URL:\n",
      "http://127.0.0.1:7000/static/\n",
      "Connected to meshcat-server.\n",
      "Connecting to meshcat-server at zmq_url=tcp://127.0.0.1:6000...\n",
      "You can open the visualizer by visiting the following URL:\n",
      "http://127.0.0.1:7000/static/\n",
      "Connected to meshcat-server.\n",
      "CPU times: user 17.6 s, sys: 1.51 s, total: 19.1 s\n",
      "Wall time: 20.9 s\n"
     ]
    },
    {
     "data": {
      "text/plain": [
       "{'land_pos_error': 0.12804023168115441,\n",
       " 'land_angle_error': 0.01541542977444621,\n",
       " 'aim_angle_error': 1.7844357312668535e-05,\n",
       " 'time_to_arrival': 0.9300237339644777,\n",
       " 'land_time': 11.153,\n",
       " 'land_x': -1.0905362795131577,\n",
       " 'land_y': 1.090497360369573,\n",
       " 'land_z': -2.997223169609295,\n",
       " 'sim_land_angle': -1.428542694047865,\n",
       " 'plan_land_angle': -1.4439581238223111,\n",
       " 'plan_launch_angle': 0.6727153661238747,\n",
       " 'release_frac': 0.2557226330825729,\n",
       " 'throw_motion_time': 0.8289776432601338}"
      ]
     },
     "execution_count": 3,
     "metadata": {},
     "output_type": "execute_result"
    }
   ],
   "source": [
    "%%time\n",
    "\n",
    "run_benchmark(\n",
    "    zmq_url=zmq_url,\n",
    "    P_WORLD_TARGET=np.array([-1, 1, -3]),\n",
    "    MAX_APPROACH_ANGLE=-45 / 180.0 * np.pi,\n",
    "    OBJECT_TO_TOSS=\"ball\",\n",
    "    GRIPPER_TO_OBJECT_COM_DIST=0.11,\n",
    "    LAUNCH_ANGLE_THRESH=-3 / 180.0 * np.pi, # 3 seems to work well?\n",
    "    verbose=False,\n",
    ")"
   ]
  },
  {
   "cell_type": "markdown",
   "metadata": {},
   "source": [
    "# Data time"
   ]
  },
  {
   "cell_type": "code",
   "execution_count": 4,
   "metadata": {},
   "outputs": [],
   "source": [
    "def go(kwargs):\n",
    "    ret = kwargs.copy()\n",
    "    \n",
    "    try:\n",
    "        rb = run_benchmark(\n",
    "            P_WORLD_TARGET=np.array([\n",
    "                kwargs[\"X\"],\n",
    "                kwargs[\"Y\"],\n",
    "                kwargs[\"Z\"]\n",
    "            ]),\n",
    "            **kwargs\n",
    "        )\n",
    "        ret.update(rb)\n",
    "        ret.update(status=\"OK\")\n",
    "    except:\n",
    "        ret.update(status=\"CRASH\")\n",
    "    \n",
    "    return ret"
   ]
  },
  {
   "cell_type": "code",
   "execution_count": 5,
   "metadata": {},
   "outputs": [
    {
     "name": "stdout",
     "output_type": "stream",
     "text": [
      "700\n",
      "Projected runtime: 3.888888888888889 hours\n"
     ]
    }
   ],
   "source": [
    "MAX_APPROACH_ANGLE = -45 / 180.0 * np.pi\n",
    "OBJECT_TO_TOSS = \"ball\"\n",
    "GRIPPER_TO_OBJECT_COM_DIST = 0.11\n",
    "\n",
    "kwargs_to_run = []\n",
    "for launch_angle_thresh in np.array([-3, 0, 3, 6]) / 180.0 * np.pi:\n",
    "    for z in [-3, -2, -1, 0, 1, 2, 3]:\n",
    "        for x in [-1, -2, -3, -4, -5]:\n",
    "            for y in [1, 2, 3, 4, 5]:\n",
    "                kwargs_to_run.append(dict(\n",
    "                    X=x,\n",
    "                    Y=y,\n",
    "                    Z=z,\n",
    "                    LAUNCH_ANGLE_THRESH=launch_angle_thresh,\n",
    "                    MAX_APPROACH_ANGLE=MAX_APPROACH_ANGLE,\n",
    "                    OBJECT_TO_TOSS=OBJECT_TO_TOSS,\n",
    "                    GRIPPER_TO_OBJECT_COM_DIST=GRIPPER_TO_OBJECT_COM_DIST,\n",
    "                ))\n",
    "\n",
    "print(len(kwargs_to_run))\n",
    "print(f\"Projected runtime: {20 * len(kwargs_to_run) / 60 / 60} hours\")"
   ]
  },
  {
   "cell_type": "code",
   "execution_count": 6,
   "metadata": {},
   "outputs": [
    {
     "name": "stderr",
     "output_type": "stream",
     "text": [
      "100%|██████████| 3/3 [01:00<00:00, 20.21s/it]"
     ]
    },
    {
     "name": "stdout",
     "output_type": "stream",
     "text": [
      "CPU times: user 46.3 s, sys: 230 ms, total: 46.5 s\n",
      "Wall time: 1min\n"
     ]
    },
    {
     "name": "stderr",
     "output_type": "stream",
     "text": [
      "\n"
     ]
    }
   ],
   "source": [
    "%%time\n",
    "\n",
    "results = []\n",
    "for kwargs in tqdm.tqdm(kwargs_to_run):\n",
    "    cur_result = go(kwargs)\n",
    "    results.append(cur_result)\n",
    "    \n",
    "    with open('benchmark_checkpoint.pickle', 'wb') as f:\n",
    "        pickle.dump(results, f)"
   ]
  },
  {
   "cell_type": "code",
   "execution_count": 7,
   "metadata": {},
   "outputs": [
    {
     "name": "stdout",
     "output_type": "stream",
     "text": [
      "3\n",
      "{'X': -1, 'Y': 1, 'Z': -3, 'LAUNCH_ANGLE_THRESH': -0.05235987755982988, 'MAX_APPROACH_ANGLE': -0.7853981633974483, 'OBJECT_TO_TOSS': 'ball', 'GRIPPER_TO_OBJECT_COM_DIST': 0.11, 'land_pos_error': 0.12804023168114345, 'land_angle_error': 0.01541542977446464, 'aim_angle_error': 1.784435731533307e-05, 'time_to_arrival': 0.9300237339644777, 'land_time': 11.153, 'land_x': -1.0905362795131521, 'land_y': 1.090497360369561, 'land_z': -2.99722316960923, 'sim_land_angle': -1.4285426940478465, 'plan_land_angle': -1.4439581238223111, 'plan_launch_angle': 0.6727153661238747, 'release_frac': 0.2557226330825729, 'throw_motion_time': 0.8289776432601338, 'status': 'OK'}\n"
     ]
    }
   ],
   "source": [
    "with open('benchmark_checkpoint.pickle', 'rb') as f:\n",
    "    test = pickle.load(f)\n",
    "    print(len(test))\n",
    "    print(test[0])"
   ]
  },
  {
   "cell_type": "code",
   "execution_count": null,
   "metadata": {},
   "outputs": [],
   "source": []
  }
 ],
 "metadata": {
  "kernelspec": {
   "display_name": "Python 3",
   "language": "python",
   "name": "python3"
  },
  "language_info": {
   "codemirror_mode": {
    "name": "ipython",
    "version": 3
   },
   "file_extension": ".py",
   "mimetype": "text/x-python",
   "name": "python",
   "nbconvert_exporter": "python",
   "pygments_lexer": "ipython3",
   "version": "3.6.9"
  }
 },
 "nbformat": 4,
 "nbformat_minor": 4
}
