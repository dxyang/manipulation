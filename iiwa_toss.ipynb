{
 "cells": [
  {
   "cell_type": "code",
   "execution_count": null,
   "metadata": {},
   "outputs": [],
   "source": [
    "import numpy as np\n",
    "\n",
    "import pydrake\n",
    "from pydrake.all import (\n",
    "    PiecewisePolynomial, RigidTransform, RotationMatrix\n",
    ")\n",
    "\n",
    "from src.drake_helpers import (\n",
    "    BuildAndSimulateTrajectory, \n",
    "    setup_manipulation_station,\n",
    "    visualize_transform, \n",
    ")\n",
    "from src.ik import create_q_knots\n",
    "from src.throw import plan_throw"
   ]
  },
  {
   "cell_type": "code",
   "execution_count": null,
   "metadata": {},
   "outputs": [],
   "source": [
    "# start a single meshcat server instance to use for remainder of this notebook.\n",
    "from meshcat.servers.zmqserver import start_zmq_server_as_subprocess\n",
    "proc, zmq_url, web_url = start_zmq_server_as_subprocess(server_args=[])\n",
    "print(web_url)"
   ]
  },
  {
   "cell_type": "code",
   "execution_count": null,
   "metadata": {},
   "outputs": [],
   "source": [
    "# Get initial pose of the gripper by using default context of manip station.\n",
    "P_WORLD_TARGET = np.array([-4, 0, 2])\n",
    "GRIPPER_TO_OBJECT_DIST = 0.13 # meters\n",
    "T_world_objectInitial = RigidTransform(\n",
    "    p=[-.1, -.69, 1.04998503e-01],\n",
    "    R=RotationMatrix.MakeZRotation(np.pi/2.0)\n",
    ")\n",
    "T_world_gripperObject = RigidTransform(\n",
    "    p=T_world_objectInitial.translation() + np.array([0, 0, GRIPPER_TO_OBJECT_DIST]),\n",
    "    R=RotationMatrix.MakeXRotation(-np.pi/2.0)\n",
    ")\n",
    "T_world_robotInitial, meshcat = setup_manipulation_station(T_world_objectInitial, zmq_url)\n",
    "\n",
    "#object frame viz\n",
    "visualize_transform(meshcat, \"T_world_obj0\", T_world_objectInitial)\n",
    "\n",
    "# plan the throw\n",
    "t_lst, pose_lst, g_traj = plan_throw(\n",
    "    T_world_robotInitial=T_world_robotInitial,\n",
    "    T_world_gripperObject=T_world_gripperObject,\n",
    "    p_world_target=P_WORLD_TARGET,\n",
    "    gripper_to_object_dist=GRIPPER_TO_OBJECT_DIST,\n",
    "    meshcat=meshcat\n",
    ")\n",
    "\n",
    "# viz the full trajectory if desired\n",
    "# for t, pose in enumerate(pose_lst):\n",
    "#    visualize_transform(meshcat, str(t), pose)"
   ]
  },
  {
   "cell_type": "code",
   "execution_count": null,
   "metadata": {},
   "outputs": [],
   "source": [
    "# turn trajectory into joint space\n",
    "q_knots = np.array(create_q_knots(pose_lst))\n",
    "q_traj = PiecewisePolynomial.CubicShapePreserving(t_lst, q_knots[:, 0:7].T)"
   ]
  },
  {
   "cell_type": "code",
   "execution_count": null,
   "metadata": {},
   "outputs": [],
   "source": [
    "# do the thing\n",
    "simulator, station_plant, meshcat = BuildAndSimulateTrajectory(q_traj, g_traj, T_world_objectInitial, None, zmq_url)\n",
    "visualize_transform(\n",
    "    meshcat,\n",
    "    \"TARGET\",\n",
    "    RigidTransform(RotationMatrix.MakeZRotation(0), P_WORLD_TARGET),\n",
    "    prefix='',\n",
    "    length=0.3,\n",
    "    radius=0.02\n",
    ")\n",
    "\n",
    "meshcat.start_recording()\n",
    "print(f\"Running for {q_traj.end_time()} seconds\")\n",
    "simulator.AdvanceTo(q_traj.end_time())\n",
    "meshcat.stop_recording()\n",
    "meshcat.publish_recording()"
   ]
  },
  {
   "cell_type": "code",
   "execution_count": null,
   "metadata": {},
   "outputs": [],
   "source": []
  }
 ],
 "metadata": {
  "kernelspec": {
   "display_name": "Python 3",
   "language": "python",
   "name": "python3"
  },
  "language_info": {
   "codemirror_mode": {
    "name": "ipython",
    "version": 3
   },
   "file_extension": ".py",
   "mimetype": "text/x-python",
   "name": "python",
   "nbconvert_exporter": "python",
   "pygments_lexer": "ipython3",
   "version": "3.6.9"
  }
 },
 "nbformat": 4,
 "nbformat_minor": 4
}
